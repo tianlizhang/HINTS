{
 "cells": [
  {
   "cell_type": "code",
   "execution_count": 3,
   "metadata": {},
   "outputs": [],
   "source": [
    "import numpy as np\n",
    "from sklearn.metrics import mean_absolute_error, mean_squared_error"
   ]
  },
  {
   "cell_type": "code",
   "execution_count": 5,
   "metadata": {
    "scrolled": false
   },
   "outputs": [
    {
     "ename": "OSError",
     "evalue": "../fanxing/result_seq2seq/test_test.txt not found.",
     "output_type": "error",
     "traceback": [
      "\u001b[0;31m---------------------------------------------------------------------------\u001b[0m",
      "\u001b[0;31mOSError\u001b[0m                                   Traceback (most recent call last)",
      "\u001b[0;32m<ipython-input-5-da3b9ade1803>\u001b[0m in \u001b[0;36m<module>\u001b[0;34m\u001b[0m\n\u001b[0;32m----> 1\u001b[0;31m \u001b[0mpred\u001b[0m \u001b[0;34m=\u001b[0m \u001b[0mnp\u001b[0m\u001b[0;34m.\u001b[0m\u001b[0mloadtxt\u001b[0m\u001b[0;34m(\u001b[0m\u001b[0;34m\"../fanxing/result_seq2seq/test_test.txt\"\u001b[0m\u001b[0;34m)\u001b[0m\u001b[0;34m\u001b[0m\u001b[0m\n\u001b[0m\u001b[1;32m      2\u001b[0m \u001b[0mgt\u001b[0m \u001b[0;34m=\u001b[0m \u001b[0mnp\u001b[0m\u001b[0;34m.\u001b[0m\u001b[0mloadtxt\u001b[0m\u001b[0;34m(\u001b[0m\u001b[0;34m\"../fanxing/result_seq2seq/test_labels.txt\"\u001b[0m\u001b[0;34m)\u001b[0m\u001b[0;34m\u001b[0m\u001b[0m\n",
      "\u001b[0;32m~/miniconda3/envs/python36/lib/python3.6/site-packages/numpy/lib/npyio.py\u001b[0m in \u001b[0;36mloadtxt\u001b[0;34m(fname, dtype, comments, delimiter, converters, skiprows, usecols, unpack, ndmin, encoding, max_rows)\u001b[0m\n\u001b[1;32m    959\u001b[0m             \u001b[0mfname\u001b[0m \u001b[0;34m=\u001b[0m \u001b[0mos_fspath\u001b[0m\u001b[0;34m(\u001b[0m\u001b[0mfname\u001b[0m\u001b[0;34m)\u001b[0m\u001b[0;34m\u001b[0m\u001b[0m\n\u001b[1;32m    960\u001b[0m         \u001b[0;32mif\u001b[0m \u001b[0m_is_string_like\u001b[0m\u001b[0;34m(\u001b[0m\u001b[0mfname\u001b[0m\u001b[0;34m)\u001b[0m\u001b[0;34m:\u001b[0m\u001b[0;34m\u001b[0m\u001b[0m\n\u001b[0;32m--> 961\u001b[0;31m             \u001b[0mfh\u001b[0m \u001b[0;34m=\u001b[0m \u001b[0mnp\u001b[0m\u001b[0;34m.\u001b[0m\u001b[0mlib\u001b[0m\u001b[0;34m.\u001b[0m\u001b[0m_datasource\u001b[0m\u001b[0;34m.\u001b[0m\u001b[0mopen\u001b[0m\u001b[0;34m(\u001b[0m\u001b[0mfname\u001b[0m\u001b[0;34m,\u001b[0m \u001b[0;34m'rt'\u001b[0m\u001b[0;34m,\u001b[0m \u001b[0mencoding\u001b[0m\u001b[0;34m=\u001b[0m\u001b[0mencoding\u001b[0m\u001b[0;34m)\u001b[0m\u001b[0;34m\u001b[0m\u001b[0m\n\u001b[0m\u001b[1;32m    962\u001b[0m             \u001b[0mfencoding\u001b[0m \u001b[0;34m=\u001b[0m \u001b[0mgetattr\u001b[0m\u001b[0;34m(\u001b[0m\u001b[0mfh\u001b[0m\u001b[0;34m,\u001b[0m \u001b[0;34m'encoding'\u001b[0m\u001b[0;34m,\u001b[0m \u001b[0;34m'latin1'\u001b[0m\u001b[0;34m)\u001b[0m\u001b[0;34m\u001b[0m\u001b[0m\n\u001b[1;32m    963\u001b[0m             \u001b[0mfh\u001b[0m \u001b[0;34m=\u001b[0m \u001b[0miter\u001b[0m\u001b[0;34m(\u001b[0m\u001b[0mfh\u001b[0m\u001b[0;34m)\u001b[0m\u001b[0;34m\u001b[0m\u001b[0m\n",
      "\u001b[0;32m~/miniconda3/envs/python36/lib/python3.6/site-packages/numpy/lib/_datasource.py\u001b[0m in \u001b[0;36mopen\u001b[0;34m(path, mode, destpath, encoding, newline)\u001b[0m\n\u001b[1;32m    193\u001b[0m \u001b[0;34m\u001b[0m\u001b[0m\n\u001b[1;32m    194\u001b[0m     \u001b[0mds\u001b[0m \u001b[0;34m=\u001b[0m \u001b[0mDataSource\u001b[0m\u001b[0;34m(\u001b[0m\u001b[0mdestpath\u001b[0m\u001b[0;34m)\u001b[0m\u001b[0;34m\u001b[0m\u001b[0m\n\u001b[0;32m--> 195\u001b[0;31m     \u001b[0;32mreturn\u001b[0m \u001b[0mds\u001b[0m\u001b[0;34m.\u001b[0m\u001b[0mopen\u001b[0m\u001b[0;34m(\u001b[0m\u001b[0mpath\u001b[0m\u001b[0;34m,\u001b[0m \u001b[0mmode\u001b[0m\u001b[0;34m,\u001b[0m \u001b[0mencoding\u001b[0m\u001b[0;34m=\u001b[0m\u001b[0mencoding\u001b[0m\u001b[0;34m,\u001b[0m \u001b[0mnewline\u001b[0m\u001b[0;34m=\u001b[0m\u001b[0mnewline\u001b[0m\u001b[0;34m)\u001b[0m\u001b[0;34m\u001b[0m\u001b[0m\n\u001b[0m\u001b[1;32m    196\u001b[0m \u001b[0;34m\u001b[0m\u001b[0m\n\u001b[1;32m    197\u001b[0m \u001b[0;34m\u001b[0m\u001b[0m\n",
      "\u001b[0;32m~/miniconda3/envs/python36/lib/python3.6/site-packages/numpy/lib/_datasource.py\u001b[0m in \u001b[0;36mopen\u001b[0;34m(self, path, mode, encoding, newline)\u001b[0m\n\u001b[1;32m    533\u001b[0m                                       encoding=encoding, newline=newline)\n\u001b[1;32m    534\u001b[0m         \u001b[0;32melse\u001b[0m\u001b[0;34m:\u001b[0m\u001b[0;34m\u001b[0m\u001b[0m\n\u001b[0;32m--> 535\u001b[0;31m             \u001b[0;32mraise\u001b[0m \u001b[0mIOError\u001b[0m\u001b[0;34m(\u001b[0m\u001b[0;34m\"%s not found.\"\u001b[0m \u001b[0;34m%\u001b[0m \u001b[0mpath\u001b[0m\u001b[0;34m)\u001b[0m\u001b[0;34m\u001b[0m\u001b[0m\n\u001b[0m\u001b[1;32m    536\u001b[0m \u001b[0;34m\u001b[0m\u001b[0m\n\u001b[1;32m    537\u001b[0m \u001b[0;34m\u001b[0m\u001b[0m\n",
      "\u001b[0;31mOSError\u001b[0m: ../fanxing/result_seq2seq/test_test.txt not found."
     ]
    }
   ],
   "source": [
    "pred = np.loadtxt(\"../fanxing/result_seq2seq/\"+dataset+\"_test_test_beta_\"+str(b)+\"num_\"+str(n)+\".txt\")\n",
    "gt = np.loadtxt(\"../fanxing/result_seq2seq/test_labels.txt\")"
   ]
  },
  {
   "cell_type": "code",
   "execution_count": 5,
   "metadata": {},
   "outputs": [],
   "source": [
    "o_gt = np.exp(gt)-1\n",
    "gt[:,0:1] = o_gt[:,0:1]\n",
    "gt[:,1:2] = o_gt[:,1:2]-o_gt[:,0:1]\n",
    "gt[:,2:3] = o_gt[:,2:3]-o_gt[:,1:2]\n",
    "gt[:,3:4] = o_gt[:,3:4]-o_gt[:,2:3]\n",
    "gt[:,4:5] = o_gt[:,4:5]-o_gt[:,3:4]\n",
    "gt = np.log(gt+1)\n",
    "\n",
    "o_pred = np.exp(pred)-1\n",
    "pred[:,0:1] = o_pred[:,0:1]\n",
    "pred[:,1:2] = o_pred[:,1:2]-o_pred[:,0:1]\n",
    "pred[:,2:3] = o_pred[:,2:3]-o_pred[:,1:2]\n",
    "pred[:,3:4] = o_pred[:,3:4]-o_pred[:,2:3]\n",
    "pred[:,4:5] = o_pred[:,4:5]-o_pred[:,3:4]\n",
    "pred = np.log(pred+1)\n",
    "\n",
    "num = min(len(pred),len(gt))\n",
    "\n",
    "year1 = pred[:num,:1],gt[:num,:1]\n",
    "year2 = pred[:num,1:2],gt[:num,1:2]\n",
    "year3 = pred[:num,2:3],gt[:num,2:3]\n",
    "year4 = pred[:num,3:4],gt[:num,3:4]\n",
    "year5 = pred[:num,4:],gt[:num,4:]\n",
    "pred = pred[:num,:]\n",
    "gt = gt[:num,:]"
   ]
  },
  {
   "cell_type": "code",
   "execution_count": 6,
   "metadata": {},
   "outputs": [
    {
     "name": "stdout",
     "output_type": "stream",
     "text": [
      "1st Year MALE:0.7210693827160495  RMSLE:0.892812091575936\n",
      "2nd Year MALE:0.8461910255897499  RMSLE:1.0637592062783583\n",
      "3th Year MALE:0.905453870487533  RMSLE:1.1552212736004517\n",
      "4th Year MALE:0.9437528718982189  RMSLE:1.216409152985174\n",
      "5th Year MALE:0.9678004021136268  RMSLE:1.2588927886465133\n",
      "Overall MALE:0.8768535105610663  RMSLE:1.1249618261574394\n"
     ]
    }
   ],
   "source": [
    "print (\"1st Year MALE:{}  RMSLE:{}\".format(mean_absolute_error(year1[0],year1[1]),np.sqrt(mean_squared_error(year1[0],year1[1]))))\n",
    "print (\"2nd Year MALE:{}  RMSLE:{}\".format(mean_absolute_error(year2[0],year2[1]),np.sqrt(mean_squared_error(year2[0],year2[1]))))\n",
    "print (\"3th Year MALE:{}  RMSLE:{}\".format(mean_absolute_error(year3[0],year3[1]),np.sqrt(mean_squared_error(year3[0],year3[1]))))\n",
    "print (\"4th Year MALE:{}  RMSLE:{}\".format(mean_absolute_error(year4[0],year4[1]),np.sqrt(mean_squared_error(year4[0],year4[1]))))\n",
    "print (\"5th Year MALE:{}  RMSLE:{}\".format(mean_absolute_error(year5[0],year5[1]),np.sqrt(mean_squared_error(year5[0],year5[1]))))\n",
    "print (\"Overall MALE:{}  RMSLE:{}\".format(mean_absolute_error(pred,gt),np.sqrt(mean_squared_error(pred,gt))))"
   ]
  },
  {
   "cell_type": "code",
   "execution_count": null,
   "metadata": {},
   "outputs": [],
   "source": []
  },
  {
   "cell_type": "code",
   "execution_count": null,
   "metadata": {},
   "outputs": [],
   "source": []
  }
 ],
 "metadata": {
  "kernelspec": {
   "display_name": "Python 3",
   "language": "python",
   "name": "python3"
  },
  "language_info": {
   "codemirror_mode": {
    "name": "ipython",
    "version": 3
   },
   "file_extension": ".py",
   "mimetype": "text/x-python",
   "name": "python",
   "nbconvert_exporter": "python",
   "pygments_lexer": "ipython3",
   "version": "3.6.2"
  }
 },
 "nbformat": 4,
 "nbformat_minor": 2
}
