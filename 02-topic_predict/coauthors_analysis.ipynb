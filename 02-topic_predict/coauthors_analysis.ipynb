{
 "cells": [
  {
   "cell_type": "code",
   "execution_count": 1,
   "metadata": {},
   "outputs": [
    {
     "name": "stderr",
     "output_type": "stream",
     "text": [
      "Using backend: pytorch\n"
     ]
    },
    {
     "name": "stdout",
     "output_type": "stream",
     "text": [
      "[Graph(num_nodes=36073, num_edges=26296,\n",
      "      ndata_schemes={'_ID': Scheme(shape=(), dtype=torch.int64)}\n",
      "      edata_schemes={'_ID': Scheme(shape=(), dtype=torch.int64), 'topic': Scheme(shape=(1000,), dtype=torch.float32)}), Graph(num_nodes=36073, num_edges=31032,\n",
      "      ndata_schemes={'_ID': Scheme(shape=(), dtype=torch.int64)}\n",
      "      edata_schemes={'_ID': Scheme(shape=(), dtype=torch.int64), 'topic': Scheme(shape=(1000,), dtype=torch.float32)}), Graph(num_nodes=36073, num_edges=37756,\n",
      "      ndata_schemes={'_ID': Scheme(shape=(), dtype=torch.int64)}\n",
      "      edata_schemes={'_ID': Scheme(shape=(), dtype=torch.int64), 'topic': Scheme(shape=(1000,), dtype=torch.float32)}), Graph(num_nodes=36073, num_edges=44444,\n",
      "      ndata_schemes={'_ID': Scheme(shape=(), dtype=torch.int64)}\n",
      "      edata_schemes={'_ID': Scheme(shape=(), dtype=torch.int64), 'topic': Scheme(shape=(1000,), dtype=torch.float32)}), Graph(num_nodes=36073, num_edges=54502,\n",
      "      ndata_schemes={'_ID': Scheme(shape=(), dtype=torch.int64)}\n",
      "      edata_schemes={'_ID': Scheme(shape=(), dtype=torch.int64), 'topic': Scheme(shape=(1000,), dtype=torch.float32)}), Graph(num_nodes=36073, num_edges=63590,\n",
      "      ndata_schemes={'_ID': Scheme(shape=(), dtype=torch.int64)}\n",
      "      edata_schemes={'_ID': Scheme(shape=(), dtype=torch.int64), 'topic': Scheme(shape=(1000,), dtype=torch.float32)}), Graph(num_nodes=36073, num_edges=71766,\n",
      "      ndata_schemes={'_ID': Scheme(shape=(), dtype=torch.int64)}\n",
      "      edata_schemes={'_ID': Scheme(shape=(), dtype=torch.int64), 'topic': Scheme(shape=(1000,), dtype=torch.float32)}), Graph(num_nodes=36073, num_edges=78334,\n",
      "      ndata_schemes={'_ID': Scheme(shape=(), dtype=torch.int64)}\n",
      "      edata_schemes={'_ID': Scheme(shape=(), dtype=torch.int64), 'topic': Scheme(shape=(1000,), dtype=torch.float32)}), Graph(num_nodes=36073, num_edges=88300,\n",
      "      ndata_schemes={'_ID': Scheme(shape=(), dtype=torch.int64)}\n",
      "      edata_schemes={'_ID': Scheme(shape=(), dtype=torch.int64), 'topic': Scheme(shape=(1000,), dtype=torch.float32)}), Graph(num_nodes=36073, num_edges=95498,\n",
      "      ndata_schemes={'_ID': Scheme(shape=(), dtype=torch.int64)}\n",
      "      edata_schemes={'_ID': Scheme(shape=(), dtype=torch.int64), 'topic': Scheme(shape=(1000,), dtype=torch.float32)}), Graph(num_nodes=36073, num_edges=99084,\n",
      "      ndata_schemes={'_ID': Scheme(shape=(), dtype=torch.int64)}\n",
      "      edata_schemes={'_ID': Scheme(shape=(), dtype=torch.int64), 'topic': Scheme(shape=(1000,), dtype=torch.float32)}), Graph(num_nodes=36073, num_edges=102610,\n",
      "      ndata_schemes={'_ID': Scheme(shape=(), dtype=torch.int64)}\n",
      "      edata_schemes={'_ID': Scheme(shape=(), dtype=torch.int64), 'topic': Scheme(shape=(1000,), dtype=torch.float32)}), Graph(num_nodes=36073, num_edges=110870,\n",
      "      ndata_schemes={'_ID': Scheme(shape=(), dtype=torch.int64)}\n",
      "      edata_schemes={'_ID': Scheme(shape=(), dtype=torch.int64), 'topic': Scheme(shape=(1000,), dtype=torch.float32)}), Graph(num_nodes=36073, num_edges=120704,\n",
      "      ndata_schemes={'_ID': Scheme(shape=(), dtype=torch.int64)}\n",
      "      edata_schemes={'_ID': Scheme(shape=(), dtype=torch.int64), 'topic': Scheme(shape=(1000,), dtype=torch.float32)}), Graph(num_nodes=36073, num_edges=115968,\n",
      "      ndata_schemes={'_ID': Scheme(shape=(), dtype=torch.int64)}\n",
      "      edata_schemes={'_ID': Scheme(shape=(), dtype=torch.int64), 'topic': Scheme(shape=(1000,), dtype=torch.float32)}), Graph(num_nodes=36073, num_edges=130342,\n",
      "      ndata_schemes={'_ID': Scheme(shape=(), dtype=torch.int64)}\n",
      "      edata_schemes={'_ID': Scheme(shape=(), dtype=torch.int64), 'topic': Scheme(shape=(1000,), dtype=torch.float32)}), Graph(num_nodes=36073, num_edges=127094,\n",
      "      ndata_schemes={'_ID': Scheme(shape=(), dtype=torch.int64)}\n",
      "      edata_schemes={'_ID': Scheme(shape=(), dtype=torch.int64), 'topic': Scheme(shape=(1000,), dtype=torch.float32)}), Graph(num_nodes=36073, num_edges=151644,\n",
      "      ndata_schemes={'_ID': Scheme(shape=(), dtype=torch.int64)}\n",
      "      edata_schemes={'_ID': Scheme(shape=(), dtype=torch.int64), 'topic': Scheme(shape=(1000,), dtype=torch.float32)}), Graph(num_nodes=36073, num_edges=162144,\n",
      "      ndata_schemes={'_ID': Scheme(shape=(), dtype=torch.int64)}\n",
      "      edata_schemes={'_ID': Scheme(shape=(), dtype=torch.int64), 'topic': Scheme(shape=(1000,), dtype=torch.float32)}), Graph(num_nodes=36073, num_edges=125120,\n",
      "      ndata_schemes={'_ID': Scheme(shape=(), dtype=torch.int64)}\n",
      "      edata_schemes={'_ID': Scheme(shape=(), dtype=torch.int64), 'topic': Scheme(shape=(1000,), dtype=torch.float32)}), Graph(num_nodes=36073, num_edges=103910,\n",
      "      ndata_schemes={'_ID': Scheme(shape=(), dtype=torch.int64)}\n",
      "      edata_schemes={'_ID': Scheme(shape=(), dtype=torch.int64), 'topic': Scheme(shape=(1000,), dtype=torch.float32)}), Graph(num_nodes=36073, num_edges=13832,\n",
      "      ndata_schemes={'_ID': Scheme(shape=(), dtype=torch.int64)}\n",
      "      edata_schemes={'_ID': Scheme(shape=(), dtype=torch.int64), 'topic': Scheme(shape=(1000,), dtype=torch.float32)})]\n"
     ]
    }
   ],
   "source": [
    "import dgl\n",
    "import torch\n",
    "coauthors, _ = dgl.load_graphs(f'../save2/coauthors_topic.graph')\n",
    "print(coauthors)"
   ]
  },
  {
   "cell_type": "code",
   "execution_count": 15,
   "metadata": {},
   "outputs": [
    {
     "name": "stdout",
     "output_type": "stream",
     "text": [
      "|V|: 36073, |E|: 26296\n",
      "dmax: in:20, out:20\n",
      "davg: in:0.728966236114502, out:0.728966236114502\n",
      "36073 tensor([2, 4, 5,  ..., 0, 0, 0])\n",
      "36073 tensor([2, 4, 5,  ..., 0, 0, 0])\n"
     ]
    }
   ],
   "source": [
    "g = coauthors[0]\n",
    "V = g.number_of_nodes()\n",
    "E = g.number_of_edges()\n",
    "out_degree = g.out_degrees() # [v]\n",
    "in_degree = g.in_degrees()\n",
    "dmax_in, dmax_out = torch.max(in_degree), torch.max(out_degree)\n",
    "davg_in, davg_out = torch.mean(in_degree.float()), torch.mean(out_degree.float())\n",
    "print(f'|V|: {V}, |E|: {E}')\n",
    "print(f'dmax: in:{dmax_in}, out:{dmax_out}')\n",
    "print(f'davg: in:{davg_in}, out:{davg_out}')\n",
    "print(len(in_degree), in_degree)\n",
    "print(len(out_degree), out_degree)\n"
   ]
  },
  {
   "cell_type": "code",
   "execution_count": 10,
   "metadata": {},
   "outputs": [
    {
     "name": "stdout",
     "output_type": "stream",
     "text": [
      "{'_ID': tensor([    29,     30,    106,  ..., 359153, 359162, 359164]), 'topic': tensor([[0., 0., 0.,  ..., 0., 0., 0.],\n",
      "        [0., 0., 0.,  ..., 0., 0., 0.],\n",
      "        [0., 0., 0.,  ..., 0., 0., 0.],\n",
      "        ...,\n",
      "        [0., 0., 0.,  ..., 0., 0., 0.],\n",
      "        [0., 0., 0.,  ..., 0., 0., 0.],\n",
      "        [0., 0., 0.,  ..., 0., 0., 0.]])}\n"
     ]
    }
   ],
   "source": [
    "print(g.edata)"
   ]
  },
  {
   "cell_type": "code",
   "execution_count": 91,
   "metadata": {},
   "outputs": [],
   "source": [
    "import networkx as nx\n",
    "edge_topic = g.edata['topic']\n",
    "idx = torch.where(edge_topic.sum(1)!=0)[0]\n",
    "new_g = dgl.edge_subgraph(g, idx, preserve_nodes=False)\n",
    "G = dgl.to_networkx(new_g, edge_attrs=['topic'])\n",
    "G = nx.Graph(G)\n",
    "# print(nx_g)\n",
    "# print(nx_g.edges(data=True))\n",
    "# print(nx_g.nodes(data=True), nx_g.edges(data=True))"
   ]
  },
  {
   "cell_type": "code",
   "execution_count": 92,
   "metadata": {},
   "outputs": [
    {
     "name": "stdout",
     "output_type": "stream",
     "text": [
      "8957 9628 2.149826950988054\n"
     ]
    }
   ],
   "source": [
    "import numpy as np\n",
    "E = G.number_of_edges()\n",
    "V = G.number_of_nodes()\n",
    "degree = [d for _, d in G.degree()]\n",
    "davg = np.mean(degree)\n",
    "print(V, E, davg)"
   ]
  },
  {
   "cell_type": "code",
   "execution_count": 93,
   "metadata": {},
   "outputs": [
    {
     "name": "stdout",
     "output_type": "stream",
     "text": [
      "{0: {0: 0, 1: 1, 2: 2, 3: 3, 4: 4}, 1: {1: 0, 0: 1, 2: 1, 3: 2, 4: 3}, 2: {2: 0, 1: 1, 3: 1, 0: 2, 4: 2}, 3: {3: 0, 2: 1, 4: 1, 1: 2, 0: 3}, 4: {4: 0, 3: 1, 2: 2, 1: 3, 0: 4}}\n"
     ]
    }
   ],
   "source": [
    "G_temp = nx.path_graph(5)\n",
    "length = dict(nx.all_pairs_shortest_path_length(G_temp))\n",
    "print(length)"
   ]
  },
  {
   "cell_type": "code",
   "execution_count": 94,
   "metadata": {},
   "outputs": [],
   "source": [
    "shortest_path_lengths = dict(nx.all_pairs_shortest_path_length(G))"
   ]
  },
  {
   "cell_type": "code",
   "execution_count": 96,
   "metadata": {},
   "outputs": [
    {
     "name": "stdout",
     "output_type": "stream",
     "text": [
      "average_path_lengths: 4.562168123312704\n"
     ]
    }
   ],
   "source": [
    "average_path_lengths = [\n",
    "    np.mean(list(spl.values())) for spl in shortest_path_lengths.values()\n",
    "]\n",
    "# The average over all nodes\n",
    "apl = np.mean(average_path_lengths)\n",
    "print('average_path_lengths:', apl)"
   ]
  },
  {
   "cell_type": "code",
   "execution_count": 97,
   "metadata": {},
   "outputs": [
    {
     "name": "stdout",
     "output_type": "stream",
     "text": [
      "[  8957  19256  22638  27856  35058  43818  56408  74312  97394 123334\n",
      " 152308 180768 207224 228394 245114 254818 253370 240852 223432 201440\n",
      " 176900 153336 129878 108974  90030  73440  57232  45136  35064  27582\n",
      "  20568  15322  11440   8650   6290   4384   2972   2066   1610   1228\n",
      "    964    598    238     82     20      4      0      0      0      0\n",
      "      0      0      0      0      0      0      0      0      0      0\n",
      "      0      0      0      0      0      0      0      0      0      0\n",
      "      0      0      0      0      0      0      0      0      0      0\n",
      "      0      0      0      0      0      0      0      0      0      0\n",
      "      0      0      0      0      0      0      0      0      0      0]\n"
     ]
    }
   ],
   "source": [
    "path_lengths = np.zeros(100, dtype=int)\n",
    "for pls in shortest_path_lengths.values():\n",
    "    pl, cnts = np.unique(list(pls.values()), return_counts=True)\n",
    "    path_lengths[pl] += cnts\n",
    "print(path_lengths)"
   ]
  },
  {
   "cell_type": "code",
   "execution_count": 98,
   "metadata": {},
   "outputs": [
    {
     "name": "stdout",
     "output_type": "stream",
     "text": [
      "[  8957  19256  22638  27856  35058  43818  56408  74312  97394 123334\n",
      " 152308 180768 207224 228394 245114 254818 253370 240852 223432 201440\n",
      " 176900 153336 129878 108974  90030  73440  57232  45136  35064  27582\n",
      "  20568  15322  11440   8650   6290   4384   2972   2066   1610   1228\n",
      "    964    598    238     82     20      4]\n"
     ]
    }
   ],
   "source": [
    "idx = np.argmax(path_lengths==0)\n",
    "path_lengths = path_lengths[:idx]\n",
    "print(path_lengths)"
   ]
  },
  {
   "cell_type": "code",
   "execution_count": 61,
   "metadata": {},
   "outputs": [
    {
     "data": {
      "image/png": "[encoded data removed]",
      "text/plain": [
       "<Figure size 1080x576 with 1 Axes>"
      ]
     },
     "metadata": {
      "needs_background": "light"
     },
     "output_type": "display_data"
    }
   ],
   "source": [
    "import matplotlib.pyplot as plt\n",
    "freq_percent = 100 * path_lengths[1:] / path_lengths[1:].sum()\n",
    "\n",
    "fig, ax = plt.subplots(figsize=(15, 8))\n",
    "ax.bar(np.arange(1, len(path_lengths)), height=freq_percent)\n",
    "ax.set_title(\n",
    "    'Distribution of shortest path length in G', fontdict ={'size': 35}, loc='center'\n",
    ")\n",
    "ax.set_xlabel('Shortest Path Length', fontdict ={'size': 22})\n",
    "ax.set_ylabel('Frequency (%)', fontdict ={'size': 22})\n",
    "fig.savefig('../jpg/spl.jpg')\n",
    "# plt.show()"
   ]
  },
  {
   "cell_type": "code",
   "execution_count": 64,
   "metadata": {},
   "outputs": [
    {
     "name": "stdout",
     "output_type": "stream",
     "text": [
      "density:0.00024004320578249822\n"
     ]
    }
   ],
   "source": [
    "density = nx.density(G)\n",
    "# ncc = nx.number_connected_components(G)\n",
    "print(f'density:{density}')"
   ]
  },
  {
   "cell_type": "code",
   "execution_count": 101,
   "metadata": {},
   "outputs": [
    {
     "name": "stdout",
     "output_type": "stream",
     "text": [
      "number_connected_components: 2053\n"
     ]
    }
   ],
   "source": [
    "ncc = nx.number_connected_components(G)\n",
    "print(\"number_connected_components:\", ncc)"
   ]
  },
  {
   "cell_type": "code",
   "execution_count": 99,
   "metadata": {},
   "outputs": [
    {
     "data": {
      "text/plain": [
       "[(3040, 0.001898168825368468),\n",
       " (1357, 0.001786511835640911),\n",
       " (3086, 0.001786511835640911),\n",
       " (696, 0.001674854845913354),\n",
       " (3093, 0.001563197856185797),\n",
       " (3400, 0.001563197856185797),\n",
       " (5490, 0.001563197856185797),\n",
       " (484, 0.0014515408664582403)]"
      ]
     },
     "execution_count": 99,
     "metadata": {},
     "output_type": "execute_result"
    }
   ],
   "source": [
    "degree_centrality = nx.centrality.degree_centrality(G)  # save results in a variable to use again \n",
    "(sorted(degree_centrality.items(), key=lambda item: item[1], reverse=True))[:8] # 此节点连接到其他节点的比例个数"
   ]
  },
  {
   "cell_type": "code",
   "execution_count": 66,
   "metadata": {},
   "outputs": [
    {
     "data": {
      "text/plain": [
       "[(3040, 34),\n",
       " (1357, 32),\n",
       " (3086, 32),\n",
       " (696, 30),\n",
       " (3093, 28),\n",
       " (3400, 28),\n",
       " (5490, 28),\n",
       " (484, 26)]"
      ]
     },
     "execution_count": 66,
     "metadata": {},
     "output_type": "execute_result"
    }
   ],
   "source": [
    "(sorted(G.degree, key=lambda item: item[1], reverse=True))[:8]"
   ]
  },
  {
   "cell_type": "code",
   "execution_count": 68,
   "metadata": {},
   "outputs": [
    {
     "data": {
      "image/png": "[encoded data removed]",
      "text/plain": [
       "<Figure size 1080x576 with 1 Axes>"
      ]
     },
     "metadata": {
      "needs_background": "light"
     },
     "output_type": "display_data"
    }
   ],
   "source": [
    "plt.figure(figsize=(15,8))\n",
    "plt.hist(degree_centrality.values(), bins=100)\n",
    "# plt.xticks(ticks=[0, 0.00025, 0.0005, 0.001, 0.015, 0.02])  # set the x axis ticks\n",
    "plt.title('Degree Centrality Histogram ', fontdict ={'size': 35}, loc='center') \n",
    "plt.xlabel('Degree Centrality', fontdict ={'size': 20})\n",
    "plt.ylabel('Counts',fontdict ={'size': 20})\n",
    "plt.savefig('../jpg/dc.jpg')"
   ]
  },
  {
   "cell_type": "code",
   "execution_count": 102,
   "metadata": {},
   "outputs": [
    {
     "data": {
      "text/plain": [
       "[(3759, 0.009239890678148252),\n",
       " (2207, 0.009039918323912448),\n",
       " (484, 0.008719356394311381),\n",
       " (1207, 0.00811424763010578),\n",
       " (8124, 0.007685829805288649),\n",
       " (3065, 0.00756238488148746),\n",
       " (6723, 0.007108324017653569),\n",
       " (2717, 0.006825836689623251)]"
      ]
     },
     "execution_count": 102,
     "metadata": {},
     "output_type": "execute_result"
    }
   ],
   "source": [
    "betweenness_centrality = nx.centrality.betweenness_centrality(G)  # save results in a variable to use again \n",
    "(sorted(betweenness_centrality.items(), key=lambda item: item[1], reverse=True))[:8]"
   ]
  },
  {
   "cell_type": "code",
   "execution_count": 73,
   "metadata": {},
   "outputs": [
    {
     "data": {
      "text/plain": [
       "[(484, 0.019474624388576434),\n",
       " (3579, 0.01947273282193192),\n",
       " (8124, 0.019368323907661106),\n",
       " (3759, 0.01930305418526864),\n",
       " (854, 0.01924838181251021),\n",
       " (3093, 0.019241915804606977),\n",
       " (2717, 0.019192180812578986),\n",
       " (1980, 0.01911441300168757)]"
      ]
     },
     "execution_count": 73,
     "metadata": {},
     "output_type": "execute_result"
    }
   ],
   "source": [
    "closeness_centrality = nx.centrality.closeness_centrality(G)  # save results in a variable to use again \n",
    "(sorted(closeness_centrality.items(), key=lambda item: item[1], reverse=True))[:8]"
   ]
  },
  {
   "cell_type": "code",
   "execution_count": 74,
   "metadata": {},
   "outputs": [
    {
     "data": {
      "image/png": "[encoded data removed]",
      "text/plain": [
       "<Figure size 1080x576 with 1 Axes>"
      ]
     },
     "metadata": {
      "needs_background": "light"
     },
     "output_type": "display_data"
    }
   ],
   "source": [
    "plt.figure(figsize=(15,8))\n",
    "plt.hist(closeness_centrality.values(), bins=100)\n",
    "plt.title('Closeness Centrality Histogram ', fontdict ={'size': 35}, loc='center') \n",
    "plt.xlabel('Closeness Centrality', fontdict ={'size': 20})\n",
    "plt.ylabel('Counts',fontdict ={'size': 20})\n",
    "plt.savefig('../jpg/cc.jpg')"
   ]
  },
  {
   "cell_type": "code",
   "execution_count": 103,
   "metadata": {},
   "outputs": [
    {
     "data": {
      "text/plain": [
       "[(3721, 0.3192691051247114),\n",
       " (6455, 0.3189558167850303),\n",
       " (4184, 0.31839046429634216),\n",
       " (7577, 0.31839046429634216),\n",
       " (7034, 0.31145307600562105),\n",
       " (7260, 0.31145307600562105),\n",
       " (8025, 0.31145307600562105),\n",
       " (1977, 0.311453076005621),\n",
       " (4508, 0.311453076005621),\n",
       " (5699, 0.311453076005621)]"
      ]
     },
     "execution_count": 103,
     "metadata": {},
     "output_type": "execute_result"
    }
   ],
   "source": [
    "eigenvector_centrality = nx.centrality.eigenvector_centrality(G)  # save results in a variable to use again \n",
    "(sorted(eigenvector_centrality.items(), key=lambda item: item[1], reverse=True))[:10]"
   ]
  },
  {
   "cell_type": "code",
   "execution_count": 106,
   "metadata": {},
   "outputs": [
    {
     "data": {
      "text/plain": [
       "[(0, 1.0),\n",
       " (1, 1.0),\n",
       " (4, 1.0),\n",
       " (7, 1.0),\n",
       " (10, 1.0),\n",
       " (13, 1.0),\n",
       " (15, 1.0),\n",
       " (17, 1.0),\n",
       " (35, 1.0),\n",
       " (36, 1.0)]"
      ]
     },
     "execution_count": 106,
     "metadata": {},
     "output_type": "execute_result"
    }
   ],
   "source": [
    "K = nx.clustering(G)\n",
    "K_avg = nx.average_clustering(G)\n",
    "(sorted(K.items(), key=lambda item: item[1], reverse=True))[:10]\n",
    "# print(K, K_avg)"
   ]
  },
  {
   "cell_type": "code",
   "execution_count": 108,
   "metadata": {},
   "outputs": [
    {
     "data": {
      "image/png": "[encoded data removed]",
      "text/plain": [
       "<Figure size 1080x576 with 1 Axes>"
      ]
     },
     "metadata": {
      "needs_background": "light"
     },
     "output_type": "display_data"
    }
   ],
   "source": [
    "def draw_hist(centrality, path='', title='', bins=100):\n",
    "    plt.figure(figsize=(15,8))\n",
    "    plt.hist(centrality.values(), bins=bins)\n",
    "    plt.title(title + ' Histogram ', fontdict ={'size': 35}, loc='center') \n",
    "    plt.xlabel(title, fontdict ={'size': 20})\n",
    "    plt.ylabel('Counts',fontdict ={'size': 20})\n",
    "    if path!='':\n",
    "        plt.savefig(path)\n",
    "draw_hist(K, path=f'../jpg/K.jpg', title='Clustering Coefficient')"
   ]
  },
  {
   "cell_type": "code",
   "execution_count": 110,
   "metadata": {},
   "outputs": [
    {
     "data": {
      "text/plain": [
       "[(3721, 37),\n",
       " (4184, 37),\n",
       " (7577, 37),\n",
       " (1977, 36),\n",
       " (4508, 36),\n",
       " (5699, 36),\n",
       " (6455, 36),\n",
       " (7034, 36),\n",
       " (7260, 36),\n",
       " (8025, 36)]"
      ]
     },
     "execution_count": 110,
     "metadata": {},
     "output_type": "execute_result"
    }
   ],
   "source": [
    "T = nx.triangles(G)\n",
    "(sorted(T.items(), key=lambda item: item[1], reverse=True))[:10]"
   ]
  },
  {
   "cell_type": "code",
   "execution_count": 133,
   "metadata": {},
   "outputs": [
    {
     "name": "stdout",
     "output_type": "stream",
     "text": [
      "3685.0 1.23423021100815 37\n"
     ]
    }
   ],
   "source": [
    "triangles = nx.triangles(G)\n",
    "T_top8 = (sorted(triangles.items(), key=lambda item: item[1], reverse=True))[:8]\n",
    "triangles_per_node = list(triangles.values())\n",
    "T = sum(triangles_per_node) / 3\n",
    "T_avg = np.mean(triangles_per_node)\n",
    "T_max = np.max(triangles_per_node)\n",
    "print(T, T_avg, T_max)"
   ]
  },
  {
   "cell_type": "code",
   "execution_count": 115,
   "metadata": {},
   "outputs": [
    {
     "name": "stdout",
     "output_type": "stream",
     "text": [
      "True\n"
     ]
    }
   ],
   "source": [
    "is_bridge = nx.has_bridges(G)\n",
    "print(is_bridge)"
   ]
  },
  {
   "cell_type": "code",
   "execution_count": 122,
   "metadata": {},
   "outputs": [
    {
     "name": "stdout",
     "output_type": "stream",
     "text": [
      "3622 [(3, 8797), (5, 7552), (9, 2547), (11, 7993), (12, 1282), (14, 2426), (14, 2838), (16, 420), (18, 7830), (19, 1116)]\n"
     ]
    }
   ],
   "source": [
    "bridges = list(nx.bridges(G))\n",
    "print(len(bridges), bridges[0:10])"
   ]
  },
  {
   "cell_type": "code",
   "execution_count": 124,
   "metadata": {},
   "outputs": [
    {
     "name": "stdout",
     "output_type": "stream",
     "text": [
      "3723 [(3, 8797), (5, 7552), (9, 2547), (11, 7993), (12, 1282), (14, 2426), (14, 2838), (16, 420), (18, 7830), (19, 1116)]\n"
     ]
    }
   ],
   "source": [
    "local_bridges = list(nx.local_bridges(G, with_span=False))\n",
    "print(len(local_bridges), local_bridges[0:10])"
   ]
  },
  {
   "cell_type": "code",
   "execution_count": 126,
   "metadata": {},
   "outputs": [
    {
     "name": "stdout",
     "output_type": "stream",
     "text": [
      "0.3819855058064926 0.38198550580649304\n"
     ]
    }
   ],
   "source": [
    "dac = nx.degree_assortativity_coefficient(G)\n",
    "dpcc = nx.degree_pearson_correlation_coefficient(G)  # use the potentially faster scipy.stats.pearsonr function.\n",
    "print(dac, dpcc)"
   ]
  },
  {
   "cell_type": "code",
   "execution_count": 127,
   "metadata": {},
   "outputs": [
    {
     "data": {
      "text/plain": [
       "2738"
      ]
     },
     "execution_count": 127,
     "metadata": {},
     "output_type": "execute_result"
    }
   ],
   "source": [
    "from random import randint\n",
    "colors = ['' for x in range (G.number_of_nodes())]  # initialize colors list\n",
    "counter = 0\n",
    "for com in nx.community.label_propagation_communities(G):\n",
    "    color = '#%06X' % randint(0, 0xFFFFFF)  # creates random RGB color\n",
    "    counter += 1\n",
    "    for node in list(com):  # fill colors list with the particular color for the community nodes\n",
    "        colors[node] = color\n",
    "counter"
   ]
  },
  {
   "cell_type": "code",
   "execution_count": 130,
   "metadata": {},
   "outputs": [
    {
     "data": {
      "text/plain": [
       "2738"
      ]
     },
     "execution_count": 130,
     "metadata": {},
     "output_type": "execute_result"
    }
   ],
   "source": [
    "communities = list(nx.community.label_propagation_communities(G))\n",
    "len(communities)"
   ]
  },
  {
   "cell_type": "code",
   "execution_count": 148,
   "metadata": {},
   "outputs": [
    {
     "name": "stdout",
     "output_type": "stream",
     "text": [
      "8957\n"
     ]
    }
   ],
   "source": [
    "cliq = nx.cliques_containing_node(G)\n",
    "print(len(list(cliq)))\n"
   ]
  },
  {
   "cell_type": "code",
   "execution_count": 157,
   "metadata": {},
   "outputs": [
    {
     "name": "stdout",
     "output_type": "stream",
     "text": [
      "5311\n",
      "2 10\n"
     ]
    }
   ],
   "source": [
    "max_cliq = list(nx.find_cliques_recursive(G))\n",
    "# print(max_cliq)\n",
    "w_lb = min([len(nc) for nc in max_cliq])\n",
    "w_hb = max([len(nc) for nc in max_cliq])\n",
    "print(len(max_cliq))\n",
    "print(w_lb, w_hb)"
   ]
  },
  {
   "cell_type": "code",
   "execution_count": 194,
   "metadata": {},
   "outputs": [
    {
     "name": "stdout",
     "output_type": "stream",
     "text": [
      "8025 [8025, 5699, 3721, 7577, 7260, 6455, 4184, 1977, 7034, 4508]\n",
      "9\n"
     ]
    }
   ],
   "source": [
    "kcore = list(nx.k_core(G))\n",
    "K_max = max(kcore)\n",
    "print(K_max, kcore)\n",
    "core_num = nx.core_number(G).values()\n",
    "print(max(list(core_num)))"
   ]
  },
  {
   "cell_type": "code",
   "execution_count": 193,
   "metadata": {},
   "outputs": [
    {
     "name": "stdout",
     "output_type": "stream",
     "text": [
      "9\n"
     ]
    }
   ],
   "source": []
  },
  {
   "cell_type": "code",
   "execution_count": 138,
   "metadata": {},
   "outputs": [
    {
     "name": "stdout",
     "output_type": "stream",
     "text": [
      "[[1 2 3]\n",
      " [1 2 3]\n",
      " [1 2 3]]\n",
      "      V  E  d_max\n",
      "2000  1  2      3\n",
      "2001  1  2      3\n",
      "2002  1  2      3\n"
     ]
    }
   ],
   "source": [
    "def ana():\n",
    "    return 1, 2, 3\n",
    "out = []\n",
    "for i in range(3):\n",
    "    paras = ana()\n",
    "    paras = np.array(list(paras))\n",
    "    out.append(paras)\n",
    "out = np.array(out)\n",
    "print(out)\n",
    "\n",
    "import pandas as pd\n",
    "df = pd.DataFrame(out)\n",
    "df.columns = ['V', 'E', 'd_max']\n",
    "df.index = [str(year) for year in range(2000, 2003)]\n",
    "print(df)\n"
   ]
  },
  {
   "cell_type": "code",
   "execution_count": 166,
   "metadata": {},
   "outputs": [
    {
     "data": {
      "image/png": "[encoded data removed]",
      "text/plain": [
       "<Figure size 432x288 with 1 Axes>"
      ]
     },
     "metadata": {
      "needs_background": "light"
     },
     "output_type": "display_data"
    }
   ],
   "source": [
    "a = [0, 12.08, 1.3, 0.1628, 0.0232]\n",
    "a[0] = 100-sum(a)\n",
    "plt.bar(np.arange(len(a))+1, a)\n",
    "plt.xlabel('Number of Org')\n",
    "plt.ylabel('Percentage')\n",
    "plt.savefig('../jpg/org.jpg')"
   ]
  }
 ],
 "metadata": {
  "interpreter": {
   "hash": "1e0222bf3d192ed24ba38124475d69c271719067df959c0ebd967f3e8a77853a"
  },
  "kernelspec": {
   "display_name": "Python 3.6.2 64-bit ('python36': conda)",
   "language": "python",
   "name": "python3"
  },
  "language_info": {
   "codemirror_mode": {
    "name": "ipython",
    "version": 3
   },
   "file_extension": ".py",
   "mimetype": "text/x-python",
   "name": "python",
   "nbconvert_exporter": "python",
   "pygments_lexer": "ipython3",
   "version": "3.6.2"
  },
  "orig_nbformat": 4
 },
 "nbformat": 4,
 "nbformat_minor": 2
}
