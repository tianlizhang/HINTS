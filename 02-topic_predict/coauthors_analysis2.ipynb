{
 "cells": [
  {
   "cell_type": "code",
   "execution_count": 1,
   "metadata": {},
   "outputs": [
    {
     "name": "stderr",
     "output_type": "stream",
     "text": [
      "Using backend: pytorch\n"
     ]
    }
   ],
   "source": [
    "import networkx as nx\n",
    "from numpy.core.defchararray import title\n",
    "import torch\n",
    "import dgl\n",
    "import matplotlib.pyplot as plt\n",
    "coauthors, _ = dgl.load_graphs(f'../save2/coauthors_topic.graph')\n",
    "i = 0\n",
    "\n",
    "g = coauthors[i]\n",
    "edge_topic = g.edata['topic']\n",
    "idx = torch.where(edge_topic.sum(1)!=0)[0]\n",
    "new_g = dgl.edge_subgraph(g, idx, preserve_nodes=False)\n",
    "G = dgl.to_networkx(new_g, edge_attrs=['topic'])\n",
    "G = nx.Graph(G)"
   ]
  },
  {
   "cell_type": "code",
   "execution_count": 4,
   "metadata": {},
   "outputs": [
    {
     "name": "stdout",
     "output_type": "stream",
     "text": [
      "8957 9628 17 2.149826950988054 4.562168123312704 0.00024004320578249822 2053 2738\n"
     ]
    }
   ],
   "source": [
    "import numpy as np\n",
    "## 1. 基础拓扑特征\n",
    "# a. |V|, |E|, degree：平均和最大\n",
    "E = G.number_of_edges()\n",
    "V = G.number_of_nodes()\n",
    "degree = [d for _, d in G.degree()]\n",
    "d_avg = np.mean(degree)\n",
    "d_max = np.max(degree)\n",
    "# b. 最短路径：分布、平均\n",
    "shortest_path_len = dict(nx.all_pairs_shortest_path_length(G))\n",
    "l_avg = np.mean([np.mean(list(spl.values())) for spl in shortest_path_len.values()])\n",
    "# draw_spl(shortest_path_len, path=f'../jpg/spl_{i}.jpg')\n",
    "# c. 密度\n",
    "ρ = nx.density(G)\n",
    "# d. 连通分量个数\n",
    "n_cc = nx.number_connected_components(G)\n",
    "# e. 社区个数：社区是一组节点，组内的节点连接的边比组之间的多得多。\n",
    "communities = nx.community.label_propagation_communities(G)\n",
    "n_c = len(list(communities))\n",
    "print(V, E, d_max, d_avg, l_avg, ρ, n_cc, n_c)"
   ]
  },
  {
   "cell_type": "code",
   "execution_count": 6,
   "metadata": {},
   "outputs": [
    {
     "name": "stdout",
     "output_type": "stream",
     "text": [
      "8957 9628 17 2.149826950988054 4.562168123312704 0.00024004320578249822 2053 2738 3685.0 1.23423021100815 37 0.3819855058064926 0.3306309940102779 5311 2 10 3622 3723 8025\n"
     ]
    }
   ],
   "source": [
    "## 3. Triangles\n",
    "triangles = nx.triangles(G)\n",
    "T_top8 = (sorted(triangles.items(), key=lambda item: item[1], reverse=True))[:8]\n",
    "triangles_per_node = list(triangles.values())\n",
    "T = sum(triangles_per_node) / 3\n",
    "T_avg = np.mean(triangles_per_node)\n",
    "T_max = np.max(triangles_per_node)\n",
    "\n",
    "## 4. Coefficient系数\n",
    "# a. Assort. Coeff. 分类系数描述了网络节点以某种方式附加到其他节点的偏好\n",
    "r = nx.degree_assortativity_coefficient(G)\n",
    "# b. 聚类系数：两个随机选择的朋友彼此成为朋友的概率，是三元闭包的标志\n",
    "K = nx.clustering(G)\n",
    "K_avg = nx.average_clustering(G)\n",
    "K_top8 = (sorted(K.items(), key=lambda item: item[1], reverse=True))[:8]\n",
    "# draw_hist(K, path=f'../jpg/K_{i}.jpg', title='Clustering Coefficient')\n",
    "\n",
    "## 5. Maximum Cliques 最大团: 包含v的最大完全子图\n",
    "max_cliq = list(nx.find_cliques_recursive(G))\n",
    "w_num = len(max_cliq)\n",
    "w_lb = min([len(nc) for nc in max_cliq])\n",
    "w_hb = max([len(nc) for nc in max_cliq])\n",
    "\n",
    "## 6. Bridges: 删除边会导致 A 和 B 位于不同的分量中\n",
    "bridges = list(nx.bridges(G))\n",
    "local_bridges = list(nx.local_bridges(G, with_span=False))\n",
    "n_b, n_lb = len(bridges), len(local_bridges)\n",
    "\n",
    "kcore = list(nx.k_core(G))\n",
    "K_max = max(kcore)\n",
    "\n",
    "print(V, E, d_max, d_avg, l_avg, ρ, n_cc, n_c, \\\n",
    "        # dc, bc, cc, ec, \\\n",
    "        T, T_avg, T_max,\\\n",
    "        r, K_avg, \\\n",
    "        w_num, w_lb, w_hb, \\\n",
    "        n_b, n_lb, K_max)"
   ]
  }
 ],
 "metadata": {
  "interpreter": {
   "hash": "1e0222bf3d192ed24ba38124475d69c271719067df959c0ebd967f3e8a77853a"
  },
  "kernelspec": {
   "display_name": "Python 3.6.2 64-bit ('python36': conda)",
   "language": "python",
   "name": "python3"
  },
  "language_info": {
   "codemirror_mode": {
    "name": "ipython",
    "version": 3
   },
   "file_extension": ".py",
   "mimetype": "text/x-python",
   "name": "python",
   "nbconvert_exporter": "python",
   "pygments_lexer": "ipython3",
   "version": "3.6.2"
  },
  "orig_nbformat": 4
 },
 "nbformat": 4,
 "nbformat_minor": 2
}
