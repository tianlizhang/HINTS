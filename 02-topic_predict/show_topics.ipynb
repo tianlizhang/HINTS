{
 "cells": [
  {
   "cell_type": "code",
   "execution_count": null,
   "metadata": {},
   "outputs": [],
   "source": [
    "import dgl\n",
    "import torch\n",
    "import pandas as pd\n",
    "import numpy as np\n",
    "\n",
    "coauthors, _ = dgl.load_graphs(f'../save2/coauthors_topic.graph')\n",
    "\n",
    "def calc_pos_weight(coauthors):\n",
    "    total, l = 0, []\n",
    "    for i in range(len(coauthors)):\n",
    "        g = coauthors[i]\n",
    "        topic = g.edata['topic']\n",
    "        total += len(topic)\n",
    "        topic_posnum = topic.sum(0)\n",
    "        l.append(topic_posnum)\n",
    "\n",
    "    l = torch.vstack(l)\n",
    "    pos_num = l.sum(0)\n",
    "    return pos_num\n",
    "pos_num = calc_pos_weight(coauthors)\n",
    "print(pos_num)"
   ]
  },
  {
   "cell_type": "code",
   "execution_count": null,
   "metadata": {},
   "outputs": [],
   "source": [
    "max_idx = torch.argsort(-pos_num)[:10]\n",
    "max_idx"
   ]
  },
  {
   "cell_type": "code",
   "execution_count": null,
   "metadata": {},
   "outputs": [],
   "source": [
    "import dgl.function as fn\n",
    "NOTE_PATH = '/nfs3-p1/zty/2021-FanXing/Academic-Networks/Academic_GNN_Module/'\n",
    "DBLP_PATH = NOTE_PATH + 'dblpv13/'\n",
    "top = 1000\n",
    "graph_list, _ = dgl.load_graphs(f'{DBLP_PATH}/dblp.graph')\n",
    "graph = graph_list[0]\n",
    "graph = dgl.node_type_subgraph(graph, ['author', 'paper', 'topic'])\n",
    "\n",
    "num_author, num_paper = graph.number_of_nodes('author'), graph.number_of_nodes('paper')\n",
    "graph.nodes['paper'].data['num'] = torch.ones((num_paper,1))\n",
    "graph.update_all(fn.copy_src('num', 'h'), fn.sum('h', 'num'), etype='belong')\n",
    "\n",
    "topic_num = graph.nodes['topic'].data['num'].squeeze(1)\n",
    "topic_idx = torch.sort(-topic_num)[1][0:top]"
   ]
  },
  {
   "cell_type": "code",
   "execution_count": null,
   "metadata": {},
   "outputs": [],
   "source": [
    "topic_index = np.array(topic_idx[max_idx])\n",
    "print(topic_index)"
   ]
  },
  {
   "cell_type": "code",
   "execution_count": null,
   "metadata": {},
   "outputs": [],
   "source": [
    "df = pd.read_csv(f'{DBLP_PATH}/ids_map.csv')\n",
    "print(df.head())\n",
    "print(df.describe())"
   ]
  },
  {
   "cell_type": "code",
   "execution_count": null,
   "metadata": {},
   "outputs": [],
   "source": [
    "df2 = df[df['Type']=='Topic']\n",
    "print(df2.head())\n",
    "print(df.describe())"
   ]
  },
  {
   "cell_type": "code",
   "execution_count": null,
   "metadata": {},
   "outputs": [],
   "source": [
    "for i in range(len(topic_index)):\n",
    "    a = topic_index[i]\n",
    "    df3 = df2[df2['Index']==a]\n",
    "    ss = df3['_ID'].iloc[0]\n",
    "    ccnt = int(pos_num[max_idx[i]])\n",
    "    print(f'{ss}: {ccnt}')"
   ]
  },
  {
   "cell_type": "code",
   "execution_count": 13,
   "metadata": {},
   "outputs": [
    {
     "data": {
      "text/plain": [
       "array([1.92660000e+04, 2.71000000e+04, 4.60000000e+01, 2.81324613e+00,\n",
       "       7.17188658e+08, 1.46028868e-04, 2.43300000e+03, 4.90100000e+03,\n",
       "       1.45870000e+04, 2.27141078e+00, 3.81000000e+02, 3.89537440e-01,\n",
       "       3.45973752e-01, 1.36090000e+04, 2.00000000e+00, 2.10000000e+01,\n",
       "       6.92908080e+03, 8.67500000e+03, 1.85960000e+04])"
      ]
     },
     "execution_count": 13,
     "metadata": {},
     "output_type": "execute_result"
    }
   ],
   "source": [
    "import numpy as np\n",
    "import os, sys\n",
    "a6 = '1.92660000e+04 2.71000000e+04 4.6000e+01 2.81324613e+00 \\\n",
    "        7.17188658e+08 1.46028868e-04 2.43300000e+03 4.90100000e+03 \\\n",
    "            1.45870000e+04 2.27141078e+00 3.810000e+02 3.89537440e-01 \\\n",
    "                3.45973752e-01 1.36090000e+04 2.000000e+00 2.100000e+01 \\\n",
    "                    6.92908080e+03 8.67500000e+03 1.85960000e+04'\n",
    "s = a6.split()\n",
    "arr = np.array([float(i) for i in s])\n",
    "arr"
   ]
  },
  {
   "cell_type": "code",
   "execution_count": 11,
   "metadata": {},
   "outputs": [
    {
     "data": {
      "text/plain": [
       "19266.0"
      ]
     },
     "execution_count": 11,
     "metadata": {},
     "output_type": "execute_result"
    }
   ],
   "source": [
    "float('1.92660000e+04')"
   ]
  }
 ],
 "metadata": {
  "interpreter": {
   "hash": "1e0222bf3d192ed24ba38124475d69c271719067df959c0ebd967f3e8a77853a"
  },
  "kernelspec": {
   "display_name": "Python 3.6.2 64-bit ('python36': conda)",
   "language": "python",
   "name": "python3"
  },
  "language_info": {
   "codemirror_mode": {
    "name": "ipython",
    "version": 3
   },
   "file_extension": ".py",
   "mimetype": "text/x-python",
   "name": "python",
   "nbconvert_exporter": "python",
   "pygments_lexer": "ipython3",
   "version": "3.6.2"
  },
  "orig_nbformat": 4
 },
 "nbformat": 4,
 "nbformat_minor": 2
}
