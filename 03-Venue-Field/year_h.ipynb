{
 "cells": [
  {
   "cell_type": "code",
   "execution_count": 1,
   "metadata": {},
   "outputs": [
    {
     "name": "stderr",
     "output_type": "stream",
     "text": [
      "Using backend: pytorch\n"
     ]
    },
    {
     "name": "stdout",
     "output_type": "stream",
     "text": [
      "Graph(num_nodes={'author': 36288, 'country': 54, 'field': 142726, 'org': 379, 'paper': 5319925, 'topic': 16081, 'venue': 46347},\n",
      "      num_edges={('country', 'has', 'org'): 432, ('field', 'has', 'venue'): 29480166, ('org', 'has', 'author'): 721202, ('paper', 'cites', 'paper'): 25626821, ('paper', 'written', 'author'): 3728457, ('topic', 'contains', 'paper'): 13160952, ('venue', 'publishes', 'paper'): 3278873},\n",
      "      metagraph=[('country', 'org', 'has'), ('org', 'author', 'has'), ('field', 'venue', 'has'), ('venue', 'paper', 'publishes'), ('paper', 'paper', 'cites'), ('paper', 'author', 'written'), ('topic', 'paper', 'contains')])\n"
     ]
    }
   ],
   "source": [
    "import dgl\n",
    "import torch\n",
    "from tqdm import trange, tqdm\n",
    "\n",
    "graph_list, _ = dgl.load_graphs('../save3/graph_vfc.graph')\n",
    "graph = graph_list[0]\n",
    "\n",
    "author_ids = torch.where(graph.in_degrees(etype='written') >= 50)[0]\n",
    "paper_ids = torch.arange(graph.number_of_nodes('paper'))\n",
    "topic_ids = torch.arange(graph.number_of_nodes('topic'))\n",
    "venue_ids = torch.arange(graph.number_of_nodes('venue'))\n",
    "field_ids = torch.arange(graph.number_of_nodes('field'))\n",
    "org_ids = torch.arange(graph.number_of_nodes('org'))\n",
    "country_ids = torch.arange(graph.number_of_nodes('country'))\n",
    "\n",
    "g = graph.subgraph({'author': author_ids, 'paper': paper_ids, 'topic':topic_ids, \\\n",
    "    'venue': venue_ids, 'field': field_ids, 'org':org_ids, 'country': country_ids})\n",
    "print(g)"
   ]
  },
  {
   "cell_type": "code",
   "execution_count": 4,
   "metadata": {},
   "outputs": [
    {
     "name": "stdout",
     "output_type": "stream",
     "text": [
      "Graph(num_nodes={'author': 36288, 'field': 142726, 'paper': 5319925, 'topic': 16081, 'venue': 46347},\n",
      "      num_edges={('field', 'has', 'venue'): 29480166, ('paper', 'cites', 'paper'): 25626821, ('paper', 'written', 'author'): 3728457, ('topic', 'contains', 'paper'): 13160952, ('venue', 'publishes', 'paper'): 3278873},\n",
      "      metagraph=[('field', 'venue', 'has'), ('venue', 'paper', 'publishes'), ('paper', 'paper', 'cites'), ('paper', 'author', 'written'), ('topic', 'paper', 'contains')])\n"
     ]
    }
   ],
   "source": [
    "g = dgl.node_type_subgraph(g, ['paper', 'venue', 'author', 'topic', 'field'])\n",
    "print(g)"
   ]
  },
  {
   "cell_type": "code",
   "execution_count": 7,
   "metadata": {},
   "outputs": [
    {
     "name": "stdout",
     "output_type": "stream",
     "text": [
      "               year\n",
      "count  2.562682e+07\n",
      "mean   2.009078e+03\n",
      "std    1.578606e+01\n",
      "min    0.000000e+00\n",
      "25%    2.006000e+03\n",
      "50%    2.011000e+03\n",
      "75%    2.014000e+03\n",
      "max    2.300000e+03\n"
     ]
    }
   ],
   "source": [
    "import pandas as pd\n",
    "import numpy as np\n",
    "cite_year = g.edges['cites'].data['year']\n",
    "df_cite = pd.DataFrame({'year': np.array(cite_year)})\n",
    "print(df_cite.describe())"
   ]
  },
  {
   "cell_type": "code",
   "execution_count": 9,
   "metadata": {},
   "outputs": [
    {
     "name": "stdout",
     "output_type": "stream",
     "text": [
      "2000: 366305, tensor([2520059, 2520060, 2520061,  ..., 2886361, 2886362, 2886363])\n",
      "2001: 391142, tensor([2886364, 2886365, 2886366,  ..., 3277503, 3277504, 3277505])\n",
      "2002: 453307, tensor([3277506, 3277507, 3277508,  ..., 3730810, 3730811, 3730812])\n",
      "2003: 500198, tensor([3730813, 3730814, 3730815,  ..., 4231008, 4231009, 4231010])\n",
      "2004: 617796, tensor([4231011, 4231012, 4231013,  ..., 4848804, 4848805, 4848806])\n",
      "2005: 848673, tensor([4848807, 4848808, 4848809,  ..., 5697477, 5697478, 5697479])\n",
      "2006: 1029859, tensor([5697480, 5697481, 5697482,  ..., 6727336, 6727337, 6727338])\n",
      "2007: 1163989, tensor([6727339, 6727340, 6727341,  ..., 7891325, 7891326, 7891327])\n",
      "2008: 1293157, tensor([7891328, 7891329, 7891330,  ..., 9184482, 9184483, 9184484])\n",
      "2009: 1445515, tensor([ 9184485,  9184486,  9184487,  ..., 10629997, 10629998, 10629999])\n",
      "2010: 1579246, tensor([10630000, 10630001, 10630002,  ..., 12209243, 12209244, 12209245])\n",
      "2011: 1670732, tensor([12209246, 12209247, 12209248,  ..., 13879975, 13879976, 13879977])\n",
      "2012: 1860803, tensor([13879978, 13879979, 13879980,  ..., 15740778, 15740779, 15740780])\n",
      "2013: 2057626, tensor([15740781, 15740782, 15740783,  ..., 17798404, 17798405, 17798406])\n",
      "2014: 2131822, tensor([17798407, 17798408, 17798409,  ..., 19930226, 19930227, 19930228])\n",
      "2015: 2224145, tensor([19930229, 19930230, 19930231,  ..., 22154371, 22154372, 22154373])\n",
      "2016: 1434001, tensor([22154374, 22154375, 22154376,  ..., 23588372, 23588373, 23588374])\n",
      "2017: 1130237, tensor([23588375, 23588376, 23588377,  ..., 24718609, 24718610, 24718611])\n",
      "2018: 864062, tensor([24718612, 24718613, 24718614,  ..., 25582671, 25582672, 25582673])\n",
      "2019: 30476, tensor([25582674, 25582675, 25582676,  ..., 25613147, 25613148, 25613149])\n",
      "2020: 13618, tensor([25613150, 25613151, 25613152,  ..., 25626765, 25626766, 25626767])\n",
      "2021: 0, tensor([], dtype=torch.int64)\n"
     ]
    }
   ],
   "source": [
    "for year in range(2000, 2022):\n",
    "    idx = torch.where(cite_year==year)[0]\n",
    "    print(f'{year}: {len(idx)}, {idx}')"
   ]
  },
  {
   "cell_type": "code",
   "execution_count": 26,
   "metadata": {},
   "outputs": [
    {
     "name": "stdout",
     "output_type": "stream",
     "text": [
      "a : shape=torch.Size([2]), tensor([1., 1.])\n",
      "b : len=2, [1, 2]\n",
      "e : len=2, {1: 2, 2: 3}\n",
      "f : len=2, {1, 2}\n"
     ]
    }
   ],
   "source": [
    "import sys\n",
    "def retrieve_name_ex(var):\n",
    "    frame = sys._getframe(2)\n",
    "    while(frame):\n",
    "        for item in frame.f_locals.items():\n",
    "            if (var is item[1]):\n",
    "                return item[0]\n",
    "        frame = frame.f_back\n",
    "    return \"\"\n",
    " \n",
    "\n",
    "def myout(var, mode=''):\n",
    "    \"\"\"\n",
    "    mode = 'len' or 'shape'\n",
    "    \"\"\"\n",
    "    def get_mode(var):\n",
    "        if isinstance(var, (list, dict, set)):\n",
    "            return 'len'\n",
    "        elif isinstance(var, (np.ndarray, torch.Tensor)):\n",
    "            return 'shape'\n",
    "        else: return ''\n",
    "\n",
    "    name = retrieve_name_ex(var)\n",
    "    if mode=='':\n",
    "        mode = get_mode(var)\n",
    "    if mode=='len':\n",
    "        print(f'{name} : len={len(var)}, {var}')\n",
    "    elif mode=='shape':\n",
    "        sp = var.shape\n",
    "        if len(sp)<2:\n",
    "            print(f'{name} : shape={sp}, {var}')\n",
    "        else:\n",
    "            print(f'{name} : shape={sp}')\n",
    "            print(var)\n",
    "    else:\n",
    "        print(f\"{name} = {var}\")\n",
    "\n",
    "a = torch.ones(2)\n",
    "b = [1, 2]\n",
    "c = torch.ones((2,3))\n",
    "d = np.ones((2,3))\n",
    "e = {1:2, 2:3}\n",
    "f = set([1,2])\n",
    "myout(a)\n",
    "myout(b)\n",
    "myout(e)\n",
    "myout(f)"
   ]
  },
  {
   "cell_type": "code",
   "execution_count": 16,
   "metadata": {},
   "outputs": [
    {
     "name": "stdout",
     "output_type": "stream",
     "text": [
      "[[1. 1. 1.]\n",
      " [1. 1. 1.]]\n",
      "tensor([[1., 1., 1.],\n",
      "        [1., 1., 1.]])\n"
     ]
    }
   ],
   "source": [
    "a = torch.ones((2,3))\n",
    "b = np.ones((2,3))\n",
    "if isinstance(b, np.ndarray):\n",
    "    print(b)\n",
    "if isinstance(a, torch.Tensor):\n",
    "    print(a)"
   ]
  }
 ],
 "metadata": {
  "interpreter": {
   "hash": "1e0222bf3d192ed24ba38124475d69c271719067df959c0ebd967f3e8a77853a"
  },
  "kernelspec": {
   "display_name": "Python 3.6.2 64-bit ('python36': conda)",
   "language": "python",
   "name": "python3"
  },
  "language_info": {
   "codemirror_mode": {
    "name": "ipython",
    "version": 3
   },
   "file_extension": ".py",
   "mimetype": "text/x-python",
   "name": "python",
   "nbconvert_exporter": "python",
   "pygments_lexer": "ipython3",
   "version": "3.6.2"
  },
  "orig_nbformat": 4
 },
 "nbformat": 4,
 "nbformat_minor": 2
}
