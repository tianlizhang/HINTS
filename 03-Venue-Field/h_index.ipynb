{
 "cells": [
  {
   "cell_type": "code",
   "execution_count": 1,
   "metadata": {},
   "outputs": [
    {
     "name": "stderr",
     "output_type": "stream",
     "text": [
      "Using backend: pytorch\n"
     ]
    },
    {
     "name": "stdout",
     "output_type": "stream",
     "text": [
      "Graph(num_nodes={'author': 3306925, 'country': 54, 'field': 142726, 'org': 379, 'paper': 5319925, 'topic': 16081, 'venue': 46347},\n",
      "      num_edges={('country', 'has', 'org'): 432, ('field', 'has', 'venue'): 29480166, ('org', 'has', 'author'): 7209864, ('paper', 'cites', 'paper'): 25626821, ('paper', 'written', 'author'): 13024047, ('topic', 'contains', 'paper'): 13160952, ('venue', 'publishes', 'paper'): 3278873},\n",
      "      metagraph=[('country', 'org', 'has'), ('org', 'author', 'has'), ('field', 'venue', 'has'), ('venue', 'paper', 'publishes'), ('paper', 'paper', 'cites'), ('paper', 'author', 'written'), ('topic', 'paper', 'contains')])\n"
     ]
    }
   ],
   "source": [
    "import dgl\n",
    "import torch\n",
    "\n",
    "graph_list, _ = dgl.load_graphs('../save3/graph_vfc.graph')\n",
    "graph = graph_list[0]\n",
    "print(graph)"
   ]
  },
  {
   "cell_type": "code",
   "execution_count": 2,
   "metadata": {},
   "outputs": [
    {
     "name": "stdout",
     "output_type": "stream",
     "text": [
      "in_degree: torch.Size([5319925]), 25626821, tensor([10,  0,  0,  ...,  0,  0,  0])\n"
     ]
    },
    {
     "data": {
      "text/plain": [
       "3356390"
      ]
     },
     "execution_count": 2,
     "metadata": {},
     "output_type": "execute_result"
    }
   ],
   "source": [
    "in_degree = graph.in_degrees(etype='cites')\n",
    "print(f'in_degree: {in_degree.shape}, {torch.sum(in_degree)}, {in_degree}')\n",
    "idx = torch.where(in_degree==0)[0]\n",
    "len(idx)"
   ]
  },
  {
   "cell_type": "code",
   "execution_count": 3,
   "metadata": {},
   "outputs": [
    {
     "data": {
      "text/html": [
       "<div>\n",
       "<style scoped>\n",
       "    .dataframe tbody tr th:only-of-type {\n",
       "        vertical-align: middle;\n",
       "    }\n",
       "\n",
       "    .dataframe tbody tr th {\n",
       "        vertical-align: top;\n",
       "    }\n",
       "\n",
       "    .dataframe thead th {\n",
       "        text-align: right;\n",
       "    }\n",
       "</style>\n",
       "<table border=\"1\" class=\"dataframe\">\n",
       "  <thead>\n",
       "    <tr style=\"text-align: right;\">\n",
       "      <th></th>\n",
       "      <th>in_degree</th>\n",
       "    </tr>\n",
       "  </thead>\n",
       "  <tbody>\n",
       "    <tr>\n",
       "      <th>count</th>\n",
       "      <td>5.319925e+06</td>\n",
       "    </tr>\n",
       "    <tr>\n",
       "      <th>mean</th>\n",
       "      <td>4.817140e+00</td>\n",
       "    </tr>\n",
       "    <tr>\n",
       "      <th>std</th>\n",
       "      <td>3.525899e+01</td>\n",
       "    </tr>\n",
       "    <tr>\n",
       "      <th>min</th>\n",
       "      <td>0.000000e+00</td>\n",
       "    </tr>\n",
       "    <tr>\n",
       "      <th>25%</th>\n",
       "      <td>0.000000e+00</td>\n",
       "    </tr>\n",
       "    <tr>\n",
       "      <th>50%</th>\n",
       "      <td>0.000000e+00</td>\n",
       "    </tr>\n",
       "    <tr>\n",
       "      <th>75%</th>\n",
       "      <td>2.000000e+00</td>\n",
       "    </tr>\n",
       "    <tr>\n",
       "      <th>max</th>\n",
       "      <td>1.650200e+04</td>\n",
       "    </tr>\n",
       "  </tbody>\n",
       "</table>\n",
       "</div>"
      ],
      "text/plain": [
       "          in_degree\n",
       "count  5.319925e+06\n",
       "mean   4.817140e+00\n",
       "std    3.525899e+01\n",
       "min    0.000000e+00\n",
       "25%    0.000000e+00\n",
       "50%    0.000000e+00\n",
       "75%    2.000000e+00\n",
       "max    1.650200e+04"
      ]
     },
     "execution_count": 3,
     "metadata": {},
     "output_type": "execute_result"
    }
   ],
   "source": [
    "import pandas as pd\n",
    "import numpy as np\n",
    "df = pd.DataFrame({'in_degree':np.array(in_degree)})\n",
    "df.describe()"
   ]
  },
  {
   "cell_type": "code",
   "execution_count": 4,
   "metadata": {},
   "outputs": [],
   "source": [
    "graph.nodes['paper'].data['citation'] = in_degree"
   ]
  },
  {
   "cell_type": "code",
   "execution_count": 17,
   "metadata": {},
   "outputs": [
    {
     "name": "stdout",
     "output_type": "stream",
     "text": [
      "top_nodes:16081, tensor([    0,     1,     2,  ..., 16078, 16079, 16080])\n",
      "pap_nodes:5319925, tensor([      0,       1,       2,  ..., 5319922, 5319923, 5319924])\n"
     ]
    }
   ],
   "source": [
    "top_nodes = graph.nodes('topic')\n",
    "pap_nodes = graph.nodes('paper')\n",
    "print(f'top_nodes:{len(top_nodes)}, {top_nodes}')\n",
    "print(f'pap_nodes:{len(pap_nodes)}, {pap_nodes}')"
   ]
  },
  {
   "cell_type": "code",
   "execution_count": 12,
   "metadata": {},
   "outputs": [
    {
     "name": "stdout",
     "output_type": "stream",
     "text": [
      "top_src:13160952, tensor([    0,     0,     0,  ..., 16079, 16079, 16080])\n",
      "pap_dst:13160952, tensor([  82785,  143234,  144174,  ..., 5313841, 5319697,    7644])\n"
     ]
    }
   ],
   "source": [
    "top_src, pap_dst = graph.edges(etype = 'contains', order='srcdst')\n",
    "print(f'top_src:{len(top_src)}, {top_src}')\n",
    "print(f'pap_dst:{len(pap_dst)}, {pap_dst}')"
   ]
  },
  {
   "cell_type": "code",
   "execution_count": 7,
   "metadata": {},
   "outputs": [
    {
     "name": "stdout",
     "output_type": "stream",
     "text": [
      "citation:5319925, tensor([10,  0,  0,  ...,  0,  0,  0])\n"
     ]
    }
   ],
   "source": [
    "citation = graph.nodes['paper'].data['citation']\n",
    "print(f'citation:{len(citation)}, {citation}')"
   ]
  },
  {
   "cell_type": "code",
   "execution_count": 16,
   "metadata": {},
   "outputs": [
    {
     "name": "stdout",
     "output_type": "stream",
     "text": [
      "top_nodes:16081, tensor([    0,     1,     2,  ..., 16078, 16079, 16080])\n",
      "src:1384, tensor([0, 0, 0,  ..., 0, 0, 0])\n",
      "dst:1384, tensor([  82785,  143234,  144174,  ..., 5313358, 5313372, 5313374])\n",
      "cites:1384, tensor([14,  1,  0,  ...,  0,  0,  0])\n"
     ]
    }
   ],
   "source": [
    "from tqdm import trange, tqdm\n",
    "\n",
    "def calc_h_index(cites):\n",
    "    c = torch.sort(cites, descending=True)[0]\n",
    "    indx = torch.arange(len(c))\n",
    "    delta = c-indx\n",
    "    d = torch.where(delta>0)[0]\n",
    "    if len(d)>0:\n",
    "        h_index = d[-1]+1\n",
    "    else:\n",
    "        h_index = 0\n",
    "    return h_index\n",
    "\n",
    "print(f'top_nodes:{len(top_nodes)}, {top_nodes}')\n",
    "h_index = torch.zeros(len(top_nodes))\n",
    "outer = range(len(top_nodes))\n",
    "for i in outer:\n",
    "    top = top_nodes[i]\n",
    "    idx = torch.where(top_src==top)[0]\n",
    "    src, dst = top_src[idx], pap_dst[idx]\n",
    "\n",
    "    # for j in dst:\n",
    "    #     nids = torch.where(top_nodes==dst)\n",
    "\n",
    "    cites = citation[dst]\n",
    "    print(f'src:{len(src)}, {src}')\n",
    "    print(f'dst:{len(dst)}, {dst}')\n",
    "    print(f'cites:{len(cites)}, {cites}')\n",
    "    h_index[i] = calc_h_index(cites)\n",
    "    # print(h)\n",
    "    break\n"
   ]
  },
  {
   "cell_type": "code",
   "execution_count": null,
   "metadata": {},
   "outputs": [
    {
     "name": "stdout",
     "output_type": "stream",
     "text": [
      "NodeSpace(data={'h_index': tensor([11.,  1.,  2.,  ...,  0., 14.,  1.])})\n"
     ]
    }
   ],
   "source": [
    "graph.nodes['topic'].data['h_index'] = h_index\n",
    "print(graph.nodes['topic'])"
   ]
  },
  {
   "cell_type": "code",
   "execution_count": null,
   "metadata": {},
   "outputs": [
    {
     "name": "stdout",
     "output_type": "stream",
     "text": [
      "au_in:3306925, tensor([ 8,  7,  1,  ..., 42,  5,  4])\n"
     ]
    }
   ],
   "source": [
    "au_in = graph.in_degrees(etype='written')\n",
    "print(f'au_in:{len(au_in)}, {au_in}')"
   ]
  },
  {
   "cell_type": "code",
   "execution_count": null,
   "metadata": {},
   "outputs": [
    {
     "name": "stdout",
     "output_type": "stream",
     "text": [
      "author_ids:36288, tensor([    254,     255,     874,  ..., 3302961, 3304332, 3306903])\n"
     ]
    }
   ],
   "source": [
    "author_ids = torch.where(au_in >= 50)[0]\n",
    "print(f'author_ids:{len(author_ids)}, {author_ids}')"
   ]
  }
 ],
 "metadata": {
  "interpreter": {
   "hash": "1e0222bf3d192ed24ba38124475d69c271719067df959c0ebd967f3e8a77853a"
  },
  "kernelspec": {
   "display_name": "Python 3.6.2 64-bit ('python36': conda)",
   "language": "python",
   "name": "python3"
  },
  "language_info": {
   "codemirror_mode": {
    "name": "ipython",
    "version": 3
   },
   "file_extension": ".py",
   "mimetype": "text/x-python",
   "name": "python",
   "nbconvert_exporter": "python",
   "pygments_lexer": "ipython3",
   "version": "3.6.2"
  },
  "orig_nbformat": 4
 },
 "nbformat": 4,
 "nbformat_minor": 2
}
