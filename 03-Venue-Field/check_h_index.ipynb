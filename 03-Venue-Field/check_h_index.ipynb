{
 "cells": [
  {
   "cell_type": "code",
   "execution_count": 1,
   "metadata": {},
   "outputs": [],
   "source": [
    "import pandas as pd\n",
    "NOTE_PATH = '/nfs3-p1/zty/2021-FanXing/Academic-Networks/Academic_GNN_Module/'\n",
    "DBLP_PATH = NOTE_PATH + 'dblpv13/'\n",
    "df = pd.read_csv(f'{DBLP_PATH}/ids_map.csv')"
   ]
  },
  {
   "cell_type": "code",
   "execution_count": 2,
   "metadata": {},
   "outputs": [
    {
     "name": "stdout",
     "output_type": "stream",
     "text": [
      "     Type                       _ID  Index\n",
      "0  Author  53f3186ddabfae9a84425c58      0\n",
      "1  Author  53f3186fdabfae9a84425cde      1\n",
      "2  Author  53f3186fdabfae9a84425cfb      2\n",
      "3  Author  53f31870dabfae9a84425d19      3\n",
      "4  Author  53f31870dabfae9a84425d53      4\n"
     ]
    }
   ],
   "source": [
    "df_author = df[df['Type']=='Author']\n",
    "print(df_author.head())"
   ]
  },
  {
   "cell_type": "code",
   "execution_count": 3,
   "metadata": {},
   "outputs": [
    {
     "data": {
      "text/plain": [
       "Index(['Type', '_ID', 'Index'], dtype='object')"
      ]
     },
     "execution_count": 3,
     "metadata": {},
     "output_type": "execute_result"
    }
   ],
   "source": [
    "df_author.columns"
   ]
  },
  {
   "cell_type": "code",
   "execution_count": 4,
   "metadata": {},
   "outputs": [
    {
     "name": "stdout",
     "output_type": "stream",
     "text": [
      "                        aid                 name  year  \\\n",
      "0  53f64e03dabfae0633f1626b        Stephen Beale   0.0   \n",
      "1  53f46ff1dabfaedd74e8f51b  Amirhossein Shirazi   0.0   \n",
      "2  5405f291dabfae450f3e4cd9       Marcel Ausloos   0.0   \n",
      "3  53f44b03dabfaeee22a09d3a           Rachel Lee   0.0   \n",
      "4  53f46b90dabfaeecd6a21167       Nazli Goharian   0.0   \n",
      "\n",
      "                                                 org  \n",
      "0    Information Sciences Institute|University of S.  \n",
      "1  Department of Physics, Shahid Beheshti Univers...  \n",
      "2  GRAPES, rue de la Belle Jardiniere 483, B-4031...  \n",
      "3                                                NaN  \n",
      "4                                                NaN  \n"
     ]
    }
   ],
   "source": [
    "df_authors = pd.read_csv(f'{DBLP_PATH}/dblp.authors.csv')\n",
    "print(df_authors.head())"
   ]
  },
  {
   "cell_type": "code",
   "execution_count": 6,
   "metadata": {},
   "outputs": [
    {
     "name": "stdout",
     "output_type": "stream",
     "text": [
      "3178630: 56314f0045cedb3399d765d2\n",
      "1548191: 53f48c0fdabfaea7cd1cdf72\n",
      "1152321: 53f454f4dabfaec09f201277\n",
      "390906: 53f42ff1dabfaee4dc7395aa\n",
      "1572517: 53f4ba75dabfaed83977b7db\n",
      "57714: 53f366a7dabfae4b3499c6fe\n",
      "1546523: 53f48919dabfaee4dc8b219c\n"
     ]
    }
   ],
   "source": [
    "aids = ['56314f0045cedb3399d765d2', '53f48c0fdabfaea7cd1cdf72', '53f454f4dabfaec09f201277', \\\n",
    "    '53f42ff1dabfaee4dc7395aa', '53f4ba75dabfaed83977b7db', '53f366a7dabfae4b3499c6fe', '53f48919dabfaee4dc8b219c']\n",
    "a_indexs = []\n",
    "for idx in aids:\n",
    "    df3 = df_author[df_author['_ID']==idx]\n",
    "    ss = df3['Index'].iloc[0]\n",
    "    a_indexs.append((ss, idx))\n",
    "    print(f'{ss}: {idx}')"
   ]
  },
  {
   "cell_type": "code",
   "execution_count": 7,
   "metadata": {},
   "outputs": [
    {
     "data": {
      "text/plain": [
       "[(3178630, '56314f0045cedb3399d765d2'),\n",
       " (1548191, '53f48c0fdabfaea7cd1cdf72'),\n",
       " (1152321, '53f454f4dabfaec09f201277'),\n",
       " (390906, '53f42ff1dabfaee4dc7395aa'),\n",
       " (1572517, '53f4ba75dabfaed83977b7db'),\n",
       " (57714, '53f366a7dabfae4b3499c6fe'),\n",
       " (1546523, '53f48919dabfaee4dc8b219c')]"
      ]
     },
     "execution_count": 7,
     "metadata": {},
     "output_type": "execute_result"
    }
   ],
   "source": [
    "a_indexs"
   ]
  },
  {
   "cell_type": "code",
   "execution_count": 8,
   "metadata": {},
   "outputs": [
    {
     "name": "stderr",
     "output_type": "stream",
     "text": [
      "Using backend: pytorch\n"
     ]
    },
    {
     "name": "stdout",
     "output_type": "stream",
     "text": [
      "Graph(num_nodes={'author': 36288, 'country': 54, 'field': 142726, 'org': 379, 'paper': 5319925, 'topic': 16081, 'venue': 46347},\n",
      "      num_edges={('country', 'has', 'org'): 432, ('field', 'has', 'venue'): 29480166, ('org', 'has', 'author'): 721202, ('paper', 'cites', 'paper'): 25626821, ('paper', 'written', 'author'): 3728457, ('topic', 'contains', 'paper'): 13160952, ('venue', 'publishes', 'paper'): 3278873},\n",
      "      metagraph=[('country', 'org', 'has'), ('org', 'author', 'has'), ('field', 'venue', 'has'), ('venue', 'paper', 'publishes'), ('paper', 'paper', 'cites'), ('paper', 'author', 'written'), ('topic', 'paper', 'contains')])\n"
     ]
    }
   ],
   "source": [
    "import dgl\n",
    "import torch\n",
    "\n",
    "graph_list, _ = dgl.load_graphs('../save3/graph_h_index.graph')\n",
    "graph = graph_list[0]\n",
    "print(graph)"
   ]
  },
  {
   "cell_type": "code",
   "execution_count": 12,
   "metadata": {},
   "outputs": [
    {
     "name": "stdout",
     "output_type": "stream",
     "text": [
      "author_ID : shape=torch.Size([36288]), tensor([    254,     255,     874,  ..., 3302961, 3304332, 3306903])\n",
      "author_h_index : shape=torch.Size([36288]), tensor([7., 3., 9.,  ..., 1., 0., 0.])\n"
     ]
    }
   ],
   "source": [
    "import sys\n",
    "sys.path.append('../')\n",
    "from util import myout\n",
    "author_ID = graph.nodes['author'].data['_ID']\n",
    "author_h_index = graph.nodes['author'].data['h_index']\n",
    "myout(author_ID, author_h_index)"
   ]
  },
  {
   "cell_type": "code",
   "execution_count": 17,
   "metadata": {},
   "outputs": [
    {
     "name": "stdout",
     "output_type": "stream",
     "text": [
      "tar_index : shape=torch.Size([7]), tensor([3178630, 1548191, 1152321,  390906, 1572517,   57714, 1546523])\n"
     ]
    }
   ],
   "source": [
    "tar_index = torch.tensor([item[0] for item in a_indexs])\n",
    "myout(tar_index)"
   ]
  },
  {
   "cell_type": "code",
   "execution_count": 19,
   "metadata": {},
   "outputs": [
    {
     "name": "stdout",
     "output_type": "stream",
     "text": [
      "idx : shape=torch.Size([0]), tensor([], dtype=torch.int64)\n",
      "tensor([])\n",
      "idx : shape=torch.Size([1]), tensor([16032])\n",
      "tensor([24.])\n",
      "idx : shape=torch.Size([0]), tensor([], dtype=torch.int64)\n",
      "tensor([])\n",
      "idx : shape=torch.Size([1]), tensor([3847])\n",
      "tensor([18.])\n",
      "idx : shape=torch.Size([1]), tensor([17134])\n",
      "tensor([21.])\n",
      "idx : shape=torch.Size([1]), tensor([480])\n",
      "tensor([19.])\n",
      "idx : shape=torch.Size([1]), tensor([15912])\n",
      "tensor([13.])\n"
     ]
    }
   ],
   "source": [
    "\n",
    "for i in range(len(tar_index)):\n",
    "    idx = torch.where(author_ID==tar_index[i])[0]\n",
    "    myout(idx)\n",
    "    print(author_h_index[idx])"
   ]
  },
  {
   "cell_type": "code",
   "execution_count": null,
   "metadata": {},
   "outputs": [],
   "source": [
    "h_author = graph.nodes['author'].data['h_index']"
   ]
  },
  {
   "cell_type": "code",
   "execution_count": 20,
   "metadata": {},
   "outputs": [
    {
     "name": "stdout",
     "output_type": "stream",
     "text": [
      "[('2020', 'Aho, Alfred V.', '56314f0045cedb3399d765d2', '3178630', -1, 67), ('2020', 'Jeffrey D. Ullman', '53f48c0fdabfaea7cd1cdf72', '1548191', 24, 117), ('2019', 'Edwin E. Catmull', '53f454f4dabfaec09f201277', '1152321', -1, 6), ('2019', 'Pat Hanrahan', '53f42ff1dabfaee4dc7395aa', '390906', 18, 93), ('2018', 'Yoshua Bengio', '53f4ba75dabfaed83977b7db', '1572517', 21, 196), ('2018', 'Geoffrey E. Hinton', '53f366a7dabfae4b3499c6fe', '57714', 19, 166), ('2018', 'Y. LeCun', '53f48919dabfaee4dc8b219c', '1546523', 13, 129)]\n"
     ]
    }
   ],
   "source": [
    "a = [('2020', 'Aho, Alfred V.', '56314f0045cedb3399d765d2', '3178630', -1, 67),\n",
    "('2020', 'Jeffrey D. Ullman', '53f48c0fdabfaea7cd1cdf72', '1548191', 24, 117),\n",
    "('2019', 'Edwin E. Catmull', '53f454f4dabfaec09f201277', '1152321', -1, 6),\n",
    "('2019', 'Pat Hanrahan', '53f42ff1dabfaee4dc7395aa', '390906', 18, 93),\n",
    "('2018', 'Yoshua Bengio', '53f4ba75dabfaed83977b7db', '1572517', 21, 196),\n",
    "('2018', 'Geoffrey E. Hinton', '53f366a7dabfae4b3499c6fe', '57714', 19, 166),\n",
    "('2018', 'Y. LeCun', '53f48919dabfaee4dc8b219c', '1546523', 13, 129)]\n",
    "print(a)"
   ]
  },
  {
   "cell_type": "code",
   "execution_count": 49,
   "metadata": {},
   "outputs": [
    {
     "data": {
      "text/html": [
       "<div>\n",
       "<style scoped>\n",
       "    .dataframe tbody tr th:only-of-type {\n",
       "        vertical-align: middle;\n",
       "    }\n",
       "\n",
       "    .dataframe tbody tr th {\n",
       "        vertical-align: top;\n",
       "    }\n",
       "\n",
       "    .dataframe thead th {\n",
       "        text-align: right;\n",
       "    }\n",
       "</style>\n",
       "<table border=\"1\" class=\"dataframe\">\n",
       "  <thead>\n",
       "    <tr style=\"text-align: right;\">\n",
       "      <th></th>\n",
       "      <th>Index</th>\n",
       "      <th>_ID</th>\n",
       "      <th>year</th>\n",
       "      <th>name</th>\n",
       "      <th>num_paper</th>\n",
       "      <th>h-index</th>\n",
       "      <th>Aminer h-index</th>\n",
       "      <th>Google h-index</th>\n",
       "    </tr>\n",
       "  </thead>\n",
       "  <tbody>\n",
       "    <tr>\n",
       "      <th>0</th>\n",
       "      <td>3178630</td>\n",
       "      <td>56314f0045cedb3399d765d2</td>\n",
       "      <td>2020</td>\n",
       "      <td>Aho, Alfred V.</td>\n",
       "      <td>1</td>\n",
       "      <td>-1</td>\n",
       "      <td>-1</td>\n",
       "      <td>67</td>\n",
       "    </tr>\n",
       "    <tr>\n",
       "      <th>1</th>\n",
       "      <td>1548191</td>\n",
       "      <td>53f48c0fdabfaea7cd1cdf72</td>\n",
       "      <td>2020</td>\n",
       "      <td>Jeffrey D. Ullman</td>\n",
       "      <td>292</td>\n",
       "      <td>24</td>\n",
       "      <td>-1</td>\n",
       "      <td>117</td>\n",
       "    </tr>\n",
       "    <tr>\n",
       "      <th>2</th>\n",
       "      <td>1152321</td>\n",
       "      <td>53f454f4dabfaec09f201277</td>\n",
       "      <td>2019</td>\n",
       "      <td>Edwin E. Catmull</td>\n",
       "      <td>9</td>\n",
       "      <td>-1</td>\n",
       "      <td>12</td>\n",
       "      <td>6</td>\n",
       "    </tr>\n",
       "    <tr>\n",
       "      <th>3</th>\n",
       "      <td>390906</td>\n",
       "      <td>53f42ff1dabfaee4dc7395aa</td>\n",
       "      <td>2019</td>\n",
       "      <td>Pat Hanrahan</td>\n",
       "      <td>195</td>\n",
       "      <td>18</td>\n",
       "      <td>97</td>\n",
       "      <td>93</td>\n",
       "    </tr>\n",
       "    <tr>\n",
       "      <th>4</th>\n",
       "      <td>1572517</td>\n",
       "      <td>53f4ba75dabfaed83977b7db</td>\n",
       "      <td>2018</td>\n",
       "      <td>Yoshua Bengio</td>\n",
       "      <td>599</td>\n",
       "      <td>21</td>\n",
       "      <td>194</td>\n",
       "      <td>196</td>\n",
       "    </tr>\n",
       "    <tr>\n",
       "      <th>5</th>\n",
       "      <td>57714</td>\n",
       "      <td>53f366a7dabfae4b3499c6fe</td>\n",
       "      <td>2018</td>\n",
       "      <td>Geoffrey E. Hinton</td>\n",
       "      <td>247</td>\n",
       "      <td>19</td>\n",
       "      <td>184</td>\n",
       "      <td>166</td>\n",
       "    </tr>\n",
       "    <tr>\n",
       "      <th>6</th>\n",
       "      <td>1546523</td>\n",
       "      <td>53f48919dabfaee4dc8b219c</td>\n",
       "      <td>2018</td>\n",
       "      <td>Y. LeCun</td>\n",
       "      <td>215</td>\n",
       "      <td>13</td>\n",
       "      <td>134</td>\n",
       "      <td>129</td>\n",
       "    </tr>\n",
       "  </tbody>\n",
       "</table>\n",
       "</div>"
      ],
      "text/plain": [
       "     Index                       _ID  year                name  num_paper  \\\n",
       "0  3178630  56314f0045cedb3399d765d2  2020      Aho, Alfred V.          1   \n",
       "1  1548191  53f48c0fdabfaea7cd1cdf72  2020   Jeffrey D. Ullman        292   \n",
       "2  1152321  53f454f4dabfaec09f201277  2019    Edwin E. Catmull          9   \n",
       "3   390906  53f42ff1dabfaee4dc7395aa  2019        Pat Hanrahan        195   \n",
       "4  1572517  53f4ba75dabfaed83977b7db  2018       Yoshua Bengio        599   \n",
       "5    57714  53f366a7dabfae4b3499c6fe  2018  Geoffrey E. Hinton        247   \n",
       "6  1546523  53f48919dabfaee4dc8b219c  2018            Y. LeCun        215   \n",
       "\n",
       "   h-index  Aminer h-index  Google h-index  \n",
       "0       -1              -1              67  \n",
       "1       24              -1             117  \n",
       "2       -1              12               6  \n",
       "3       18              97              93  \n",
       "4       21             194             196  \n",
       "5       19             184             166  \n",
       "6       13             134             129  "
      ]
     },
     "execution_count": 49,
     "metadata": {},
     "output_type": "execute_result"
    }
   ],
   "source": [
    "df_t = pd.DataFrame(columns=['Index', '_ID', 'year', 'name',  'num_paper', 'h-index','Aminer h-index', 'Google h-index'])\n",
    "df_t['year'] = [i[0] for i in a]\n",
    "df_t['name'] = [i[1] for i in a]\n",
    "df_t['_ID'] = [i[2] for i in a]\n",
    "df_t['Index'] = [i[3] for i in a]\n",
    "df_t['h-index'] = [i[4] for i in a]\n",
    "df_t['Google h-index'] = [i[5] for i in a]\n",
    "df_t['num_paper'] = [1, 292, 9, 195, 599, 247, 215]\n",
    "df_t['Aminer h-index'] = [-1, -1, 12, 97, 194, 184, 134]\n",
    "df_t"
   ]
  },
  {
   "cell_type": "code",
   "execution_count": 23,
   "metadata": {},
   "outputs": [
    {
     "data": {
      "text/plain": [
       "7"
      ]
     },
     "execution_count": 23,
     "metadata": {},
     "output_type": "execute_result"
    }
   ],
   "source": [
    "import json\n",
    "out = json.load(open('out.json', 'r'))\n",
    "len(out)"
   ]
  },
  {
   "cell_type": "code",
   "execution_count": 26,
   "metadata": {},
   "outputs": [
    {
     "name": "stdout",
     "output_type": "stream",
     "text": [
      "Aho, Alfred V. 1\n",
      "Jeffrey D. Ullman 292\n",
      "Edwin E. Catmull 9\n",
      "Pat Hanrahan 195\n",
      "Yoshua Bengio 599\n",
      "Geoffrey E. Hinton 247\n",
      "Y. LeCun 215\n"
     ]
    }
   ],
   "source": [
    "turing_name = [i[1] for i in a]\n",
    "for i,item in enumerate(out):\n",
    "    print(turing_name[i], len(item))"
   ]
  },
  {
   "cell_type": "code",
   "execution_count": 27,
   "metadata": {},
   "outputs": [
    {
     "data": {
      "text/plain": [
       "[['56314f0045cedb3399d765d2',\n",
       "  '5c86c82c4895d9cbc698ff2b',\n",
       "  'Indexed grammars -- An extension of context free grammars',\n",
       "  [{'_id': '56314f0045cedb3399d765d2', 'name': 'Aho, Alfred V.'}],\n",
       "  1967]]"
      ]
     },
     "execution_count": 27,
     "metadata": {},
     "output_type": "execute_result"
    }
   ],
   "source": [
    "out[0]"
   ]
  },
  {
   "cell_type": "code",
   "execution_count": 39,
   "metadata": {},
   "outputs": [],
   "source": [
    "df_out = pd.DataFrame(columns=['name', 'year', 'title'])\n",
    "ll = []\n",
    "idx = 5\n",
    "for idx in range(len(turing_name)):\n",
    "    # print(turing_name[idx])\n",
    "    for item in out[idx]:\n",
    "        ll.append((turing_name[idx], item[-1], item[2]))"
   ]
  },
  {
   "cell_type": "code",
   "execution_count": 40,
   "metadata": {},
   "outputs": [],
   "source": [
    "df_out['name'] = [item[0] for item in ll]\n",
    "df_out['year'] = [item[1] for item in ll]\n",
    "df_out['title'] = [item[2] for item in ll]"
   ]
  },
  {
   "cell_type": "code",
   "execution_count": 41,
   "metadata": {},
   "outputs": [
    {
     "data": {
      "text/html": [
       "<div>\n",
       "<style scoped>\n",
       "    .dataframe tbody tr th:only-of-type {\n",
       "        vertical-align: middle;\n",
       "    }\n",
       "\n",
       "    .dataframe tbody tr th {\n",
       "        vertical-align: top;\n",
       "    }\n",
       "\n",
       "    .dataframe thead th {\n",
       "        text-align: right;\n",
       "    }\n",
       "</style>\n",
       "<table border=\"1\" class=\"dataframe\">\n",
       "  <thead>\n",
       "    <tr style=\"text-align: right;\">\n",
       "      <th></th>\n",
       "      <th>name</th>\n",
       "      <th>year</th>\n",
       "      <th>title</th>\n",
       "    </tr>\n",
       "  </thead>\n",
       "  <tbody>\n",
       "    <tr>\n",
       "      <th>0</th>\n",
       "      <td>Aho, Alfred V.</td>\n",
       "      <td>1967</td>\n",
       "      <td>Indexed grammars -- An extension of context fr...</td>\n",
       "    </tr>\n",
       "    <tr>\n",
       "      <th>1</th>\n",
       "      <td>Jeffrey D. Ullman</td>\n",
       "      <td>1980</td>\n",
       "      <td>Universal Instances</td>\n",
       "    </tr>\n",
       "    <tr>\n",
       "      <th>2</th>\n",
       "      <td>Jeffrey D. Ullman</td>\n",
       "      <td>1975</td>\n",
       "      <td>Evaluating Polynomials at Fixed Sets of Points</td>\n",
       "    </tr>\n",
       "    <tr>\n",
       "      <th>3</th>\n",
       "      <td>Jeffrey D. Ullman</td>\n",
       "      <td>1969</td>\n",
       "      <td>Halting Stack Automata</td>\n",
       "    </tr>\n",
       "    <tr>\n",
       "      <th>4</th>\n",
       "      <td>Jeffrey D. Ullman</td>\n",
       "      <td>1972</td>\n",
       "      <td>Flow graph reducibility</td>\n",
       "    </tr>\n",
       "  </tbody>\n",
       "</table>\n",
       "</div>"
      ],
      "text/plain": [
       "                name  year                                              title\n",
       "0     Aho, Alfred V.  1967  Indexed grammars -- An extension of context fr...\n",
       "1  Jeffrey D. Ullman  1980                                Universal Instances\n",
       "2  Jeffrey D. Ullman  1975     Evaluating Polynomials at Fixed Sets of Points\n",
       "3  Jeffrey D. Ullman  1969                             Halting Stack Automata\n",
       "4  Jeffrey D. Ullman  1972                            Flow graph reducibility"
      ]
     },
     "execution_count": 41,
     "metadata": {},
     "output_type": "execute_result"
    }
   ],
   "source": [
    "df_out.head()"
   ]
  },
  {
   "cell_type": "code",
   "execution_count": 42,
   "metadata": {},
   "outputs": [],
   "source": [
    "df_out.to_csv('../save3/turing.csv')"
   ]
  }
 ],
 "metadata": {
  "interpreter": {
   "hash": "1e0222bf3d192ed24ba38124475d69c271719067df959c0ebd967f3e8a77853a"
  },
  "kernelspec": {
   "display_name": "Python 3.6.2 64-bit ('python36': conda)",
   "language": "python",
   "name": "python3"
  },
  "language_info": {
   "codemirror_mode": {
    "name": "ipython",
    "version": 3
   },
   "file_extension": ".py",
   "mimetype": "text/x-python",
   "name": "python",
   "nbconvert_exporter": "python",
   "pygments_lexer": "ipython3",
   "version": "3.6.2"
  },
  "orig_nbformat": 4
 },
 "nbformat": 4,
 "nbformat_minor": 2
}
