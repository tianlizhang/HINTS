{
 "cells": [
  {
   "cell_type": "code",
   "execution_count": 2,
   "metadata": {},
   "outputs": [
    {
     "name": "stdout",
     "output_type": "stream",
     "text": [
      "Graph(num_nodes={'author': 3306925, 'country': 54, 'org': 379, 'paper': 5319925, 'topic': 16081},\n",
      "      num_edges={('author', 'belong', 'org'): 7209864, ('author', 'write', 'paper'): 13024047, ('country', 'contain', 'org'): 432, ('org', 'belong', 'country'): 432, ('org', 'contain', 'author'): 7209864, ('paper', 'belong', 'topic'): 13160952, ('paper', 'written', 'author'): 13024047, ('topic', 'contain', 'paper'): 13160952},\n",
      "      metagraph=[('author', 'org', 'belong'), ('author', 'paper', 'write'), ('org', 'country', 'belong'), ('org', 'author', 'contain'), ('paper', 'topic', 'belong'), ('paper', 'author', 'written'), ('country', 'org', 'contain'), ('topic', 'paper', 'contain')])\n"
     ]
    }
   ],
   "source": [
    "import torch\n",
    "import dgl\n",
    "NOTE_PATH = '/nfs3-p1/zty/2021-FanXing/Academic-Networks/Academic_GNN_Module/'\n",
    "DBLP_PATH = NOTE_PATH + 'dblpv13/'\n",
    "\n",
    "graph_list, _ = dgl.load_graphs(f'{DBLP_PATH}/dblp.graph')\n",
    "graph = graph_list[0]\n",
    "print(graph)"
   ]
  },
  {
   "cell_type": "code",
   "execution_count": 5,
   "metadata": {},
   "outputs": [
    {
     "name": "stdout",
     "output_type": "stream",
     "text": [
      "pid:13024047, tensor([    175,     273,     273,  ..., 5319924, 5319924, 5319924])\n",
      "aid:13024047, tensor([1734554,  797305,  761428,  ..., 1828396, 1994351, 1815169])\n"
     ]
    }
   ],
   "source": [
    "pid, aid = graph.edges(etype='written', order='eid')\n",
    "print(f'pid:{len(pid)}, {pid}')\n",
    "print(f'aid:{len(aid)}, {aid}')"
   ]
  },
  {
   "cell_type": "code",
   "execution_count": 6,
   "metadata": {},
   "outputs": [
    {
     "name": "stdout",
     "output_type": "stream",
     "text": [
      "oid_org:7209864, tensor([0, 0, 0,  ..., 0, 0, 0])\n",
      "aid_org:7209864, tensor([      0,       0,       0,  ..., 3306923, 3306924, 3306924])\n"
     ]
    }
   ],
   "source": [
    "g1 = dgl.node_type_subgraph(graph, ['author', 'org'])\n",
    "oid_org, aid_org = g1.edges(etype='contain', order='eid')\n",
    "print(f'oid_org:{len(oid_org)}, {oid_org}')\n",
    "print(f'aid_org:{len(aid_org)}, {aid_org}')"
   ]
  },
  {
   "cell_type": "code",
   "execution_count": 9,
   "metadata": {},
   "outputs": [
    {
     "name": "stdout",
     "output_type": "stream",
     "text": [
      "cid_country:432, tensor([0, 1, 2, 3, 3, 1, 1, 4, 5, 5])\n",
      "oid_country:432, tensor([0, 1, 2, 0, 3, 0, 4, 5, 0, 6])\n"
     ]
    }
   ],
   "source": [
    "g2 = dgl.node_type_subgraph(graph, ['country', 'org'])\n",
    "cid_country, oid_country = g2.edges(etype='contain', order='eid')\n",
    "print(f'cid_country:{len(cid_country)}, {cid_country[0:10]}')\n",
    "print(f'oid_country:{len(oid_country)}, {oid_country[:10]}')"
   ]
  },
  {
   "cell_type": "code",
   "execution_count": 10,
   "metadata": {},
   "outputs": [
    {
     "name": "stdout",
     "output_type": "stream",
     "text": [
      "tid_topic:13160952, tensor([15592, 11391, 10431,  ...,  7838,  3256,   807])\n",
      "pid_topic:13160952, tensor([      4,       4,       4,  ..., 5319924, 5319924, 5319924])\n"
     ]
    }
   ],
   "source": [
    "g3 = dgl.node_type_subgraph(graph, ['topic', 'paper'])\n",
    "tid_topic, pid_topic = g3.edges(etype='contain', order='eid')\n",
    "print(f'tid_topic:{len(tid_topic)}, {tid_topic}')\n",
    "print(f'pid_topic:{len(pid_topic)}, {pid_topic}')"
   ]
  },
  {
   "cell_type": "code",
   "execution_count": 14,
   "metadata": {},
   "outputs": [
    {
     "name": "stdout",
     "output_type": "stream",
     "text": [
      "year:13024047, tensor([   0.,    0.,    0.,  ..., 9737., 9737., 9737.], dtype=torch.float64)\n",
      "author_org_year:7209864, tensor([1995., 1997., 1998.,  ..., 2020., 2016., 2020.], dtype=torch.float64)\n",
      "paper_topic_year:13160952, tensor([   0.,    0.,    0.,  ..., 9737., 9737., 9737.], dtype=torch.float64)\n"
     ]
    }
   ],
   "source": [
    "year = graph.edges['written'].data['year']\n",
    "author_org_year = g1.edges['contain'].data['year']\n",
    "paper_topic_year= g3.edges['contain'].data['year']\n",
    "print(f'year:{len(year)}, {year}')\n",
    "print(f'author_org_year:{len(author_org_year)}, {author_org_year}')\n",
    "print(f'paper_topic_year:{len(paper_topic_year)}, {paper_topic_year}')\n"
   ]
  },
  {
   "cell_type": "code",
   "execution_count": 15,
   "metadata": {},
   "outputs": [
    {
     "name": "stdout",
     "output_type": "stream",
     "text": [
      "Graph(num_nodes={'author': 3306925, 'country': 54, 'org': 379, 'paper': 5319925, 'topic': 16081},\n",
      "      num_edges={('country', 'has', 'org'): 432, ('org', 'has', 'author'): 7209864, ('paper', 'written', 'author'): 13024047, ('topic', 'contains', 'paper'): 13160952},\n",
      "      metagraph=[('country', 'org', 'has'), ('org', 'author', 'has'), ('paper', 'author', 'written'), ('topic', 'paper', 'contains')])\n"
     ]
    }
   ],
   "source": [
    "graph_data = {\n",
    "    ('paper', 'written', 'author'): (pid, aid),\n",
    "    ('org', 'has', 'author'): (oid_org, aid_org),\n",
    "    ('country', 'has', 'org'): (cid_country, oid_country),\n",
    "    ('topic', 'contains', 'paper'): (tid_topic, pid_topic)\n",
    "}\n",
    "new_g = dgl.heterograph(graph_data)\n",
    "new_g.edata['year'] = {\n",
    "    ('paper', 'written', 'author'): year,\n",
    "    ('org', 'has', 'author'): author_org_year,\n",
    "    ('topic', 'contains', 'paper'): paper_topic_year\n",
    "}\n",
    "print(new_g)"
   ]
  },
  {
   "cell_type": "code",
   "execution_count": 16,
   "metadata": {},
   "outputs": [],
   "source": [
    "dgl.save_graphs('../save3/new_g.graph', [new_g])"
   ]
  },
  {
   "cell_type": "code",
   "execution_count": 1,
   "metadata": {},
   "outputs": [],
   "source": [
    "import numpy as np\n",
    "pid1 = np.load('../save2/pid1.npy')\n",
    "pid2 = np.load('../save2/pid2.npy')\n",
    "year_cite = np.load('../save2/year_cite.npy')\n",
    "vid_pub = np.load('../save2/vid_pub.npy')\n",
    "pid_pub = np.load('../save2/pid_pub.npy')\n",
    "year_pub = np.load('../save2/year_pub.npy')\n",
    "fid_has = np.load('../save2/fid_has.npy')\n",
    "vid_has = np.load('../save2/vid_has.npy')\n",
    "year_has = np.load('../save2/year_has.npy')"
   ]
  },
  {
   "cell_type": "code",
   "execution_count": 5,
   "metadata": {},
   "outputs": [
    {
     "name": "stdout",
     "output_type": "stream",
     "text": [
      "28917464 28917464\n"
     ]
    }
   ],
   "source": [
    "print(len(pid1), len(pid2))"
   ]
  },
  {
   "cell_type": "code",
   "execution_count": 4,
   "metadata": {},
   "outputs": [
    {
     "name": "stdout",
     "output_type": "stream",
     "text": [
      "25626821 25626821\n"
     ]
    }
   ],
   "source": [
    "idx = np.where([pid2>=0])[0]\n",
    "p1, p2 = pid1[idx], pid2[idx]\n",
    "print(len(p1), len(p2))"
   ]
  },
  {
   "cell_type": "code",
   "execution_count": null,
   "metadata": {},
   "outputs": [],
   "source": [
    "28917464"
   ]
  }
 ],
 "metadata": {
  "interpreter": {
   "hash": "1e0222bf3d192ed24ba38124475d69c271719067df959c0ebd967f3e8a77853a"
  },
  "kernelspec": {
   "display_name": "Python 3.6.2 64-bit ('python36': conda)",
   "language": "python",
   "name": "python3"
  },
  "language_info": {
   "codemirror_mode": {
    "name": "ipython",
    "version": 3
   },
   "file_extension": ".py",
   "mimetype": "text/x-python",
   "name": "python",
   "nbconvert_exporter": "python",
   "pygments_lexer": "ipython3",
   "version": "3.6.2"
  },
  "orig_nbformat": 4
 },
 "nbformat": 4,
 "nbformat_minor": 2
}
