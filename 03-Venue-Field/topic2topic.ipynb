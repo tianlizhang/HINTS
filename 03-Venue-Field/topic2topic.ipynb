{
 "cells": [
  {
   "cell_type": "code",
   "execution_count": 2,
   "metadata": {},
   "outputs": [
    {
     "name": "stderr",
     "output_type": "stream",
     "text": [
      "Using backend: pytorch\n"
     ]
    },
    {
     "name": "stdout",
     "output_type": "stream",
     "text": [
      "Graph(num_nodes={'author': 3306925, 'country': 54, 'field': 142726, 'org': 379, 'paper': 5319925, 'topic': 16081, 'venue': 46347},\n",
      "      num_edges={('country', 'has', 'org'): 432, ('field', 'has', 'venue'): 29480166, ('org', 'has', 'author'): 7209864, ('paper', 'cites', 'paper'): 25626821, ('paper', 'written', 'author'): 13024047, ('topic', 'contains', 'paper'): 13160952, ('venue', 'publishes', 'paper'): 3278873},\n",
      "      metagraph=[('country', 'org', 'has'), ('org', 'author', 'has'), ('field', 'venue', 'has'), ('venue', 'paper', 'publishes'), ('paper', 'paper', 'cites'), ('paper', 'author', 'written'), ('topic', 'paper', 'contains')])\n"
     ]
    }
   ],
   "source": [
    "import dgl\n",
    "import torch\n",
    "# from Academic_GNN_Module.util import DBLP_PATH\n",
    "\n",
    "graph_list, _ = dgl.load_graphs(f'../save3/graph_vfc.graph')\n",
    "graph = graph_list[0]\n",
    "print(graph)"
   ]
  },
  {
   "cell_type": "code",
   "execution_count": 3,
   "metadata": {},
   "outputs": [
    {
     "name": "stdout",
     "output_type": "stream",
     "text": [
      "Graph(num_nodes={'paper': 5319925, 'topic': 16081},\n",
      "      num_edges={('paper', 'cites', 'paper'): 25626821, ('topic', 'contains', 'paper'): 13160952},\n",
      "      metagraph=[('paper', 'paper', 'cites'), ('topic', 'paper', 'contains')])\n"
     ]
    }
   ],
   "source": [
    "g = dgl.node_type_subgraph(graph, ['paper', 'topic'])\n",
    "print(g)"
   ]
  },
  {
   "cell_type": "code",
   "execution_count": 4,
   "metadata": {},
   "outputs": [],
   "source": [
    "src_top, dst_pap = g.edges(etype='contains')\n",
    "src_pap1, dst_pap2 = g.edges(etype='cites')"
   ]
  },
  {
   "cell_type": "code",
   "execution_count": 5,
   "metadata": {},
   "outputs": [
    {
     "name": "stdout",
     "output_type": "stream",
     "text": [
      "Graph(num_nodes={'paper': 5319925, 'topic': 16081},\n",
      "      num_edges={('paper', 'belong', 'topic'): 13160952, ('paper', 'cites', 'paper'): 25626821, ('topic', 'contains', 'paper'): 13160952},\n",
      "      metagraph=[('paper', 'topic', 'belong'), ('paper', 'paper', 'cites'), ('topic', 'paper', 'contains')])\n"
     ]
    }
   ],
   "source": [
    "g2 = dgl.heterograph({\n",
    "    ('paper', 'cites', 'paper'): (src_pap1, dst_pap2), \n",
    "    ('topic', 'contains', 'paper'): (src_top, dst_pap), \n",
    "    ('paper', 'belong', 'topic'): (dst_pap, src_top)\n",
    "})\n",
    "print(g2)"
   ]
  },
  {
   "cell_type": "code",
   "execution_count": 6,
   "metadata": {},
   "outputs": [],
   "source": [
    "import sys\n",
    "sys.path.append('../')\n",
    "from util import myout"
   ]
  },
  {
   "cell_type": "code",
   "execution_count": 7,
   "metadata": {},
   "outputs": [
    {
     "name": "stdout",
     "output_type": "stream",
     "text": [
      "cite_year : shape=torch.Size([25626821]), tensor([   0,    0,    0,  ..., 2300, 2300, 2300])\n",
      "contains_year : shape=torch.Size([13160952]), tensor([   0.,    0.,    0.,  ..., 9737., 9737., 9737.], dtype=torch.float64)\n"
     ]
    }
   ],
   "source": [
    "cite_year = g.edges['cites'].data['year']\n",
    "contains_year = g.edges['contains'].data['year']\n",
    "myout(cite_year)\n",
    "myout(contains_year)"
   ]
  },
  {
   "cell_type": "code",
   "execution_count": 8,
   "metadata": {},
   "outputs": [
    {
     "name": "stdout",
     "output_type": "stream",
     "text": [
      "Graph(num_nodes={'paper': 5319925, 'topic': 16081},\n",
      "      num_edges={('paper', 'belong', 'topic'): 13160952, ('paper', 'cites', 'paper'): 25626821, ('topic', 'contains', 'paper'): 13160952},\n",
      "      metagraph=[('paper', 'topic', 'belong'), ('paper', 'paper', 'cites'), ('topic', 'paper', 'contains')])\n"
     ]
    }
   ],
   "source": [
    "g2.edata['year'] = {\n",
    "    ('paper', 'cites', 'paper'): cite_year, \n",
    "    ('topic', 'contains', 'paper'): contains_year, \n",
    "    ('paper', 'belong', 'topic'): contains_year\n",
    "}\n",
    "print(g2)"
   ]
  },
  {
   "cell_type": "code",
   "execution_count": 9,
   "metadata": {},
   "outputs": [
    {
     "name": "stdout",
     "output_type": "stream",
     "text": [
      "Graph(num_nodes={'paper': 5319925, 'topic': 16081},\n",
      "      num_edges={('paper', 'belong', 'topic'): 301320, ('paper', 'cites', 'paper'): 0, ('topic', 'contains', 'paper'): 301320},\n",
      "      metagraph=[('paper', 'topic', 'belong'), ('paper', 'paper', 'cites'), ('topic', 'paper', 'contains')])\n"
     ]
    }
   ],
   "source": [
    "year = 2000\n",
    "# cites_eids = g.filter_edges(lambda x: x.data['year'] == year, etype='cites')\n",
    "contains_eids = g2.filter_edges(lambda x: x.data['year'] == year, etype='contains')\n",
    "belong_eids = g2.filter_edges(lambda x: x.data['year'] == year, etype='belong')\n",
    "\n",
    "year_graph = g2.edge_subgraph({'contains': contains_eids, \\\n",
    "    'belong': belong_eids}, preserve_nodes=True)\n",
    "print(year_graph)\n"
   ]
  },
  {
   "cell_type": "code",
   "execution_count": 10,
   "metadata": {},
   "outputs": [
    {
     "name": "stdout",
     "output_type": "stream",
     "text": [
      "Graph(num_nodes=16081, num_edges=1136696,\n",
      "      ndata_schemes={'_ID': Scheme(shape=(), dtype=torch.int64)}\n",
      "      edata_schemes={})\n"
     ]
    }
   ],
   "source": [
    "g_topic = dgl.metapath_reachable_graph(year_graph, ['contains', 'belong'])\n",
    "g_topic = dgl.remove_self_loop(g_topic)\n",
    "print(g_topic)"
   ]
  },
  {
   "cell_type": "code",
   "execution_count": 11,
   "metadata": {},
   "outputs": [
    {
     "name": "stdout",
     "output_type": "stream",
     "text": [
      "top1 : shape=torch.Size([1136696]), tensor([    0,     0,     4,  ..., 16075, 16075, 16075])\n",
      "top2 : shape=torch.Size([1136696]), tensor([   55,  3242,    13,  ..., 16051, 16065, 16066])\n"
     ]
    }
   ],
   "source": [
    "top1, top2 = g_topic.edges(order='srcdst')\n",
    "myout(top1)\n",
    "myout(top2)"
   ]
  },
  {
   "cell_type": "code",
   "execution_count": 12,
   "metadata": {},
   "outputs": [
    {
     "name": "stdout",
     "output_type": "stream",
     "text": [
      "topic_src : shape=torch.Size([301320]), tensor([ 3705,   102, 14446,  ..., 12360,  8363,  8237])\n",
      "paper_dst : shape=torch.Size([301320]), tensor([652183, 652183, 652184,  ..., 729576, 729576, 729576])\n"
     ]
    }
   ],
   "source": [
    "topic_src, paper_dst = year_graph.edges(etype='contains')\n",
    "myout(topic_src)\n",
    "myout(paper_dst)"
   ]
  },
  {
   "cell_type": "code",
   "execution_count": 24,
   "metadata": {},
   "outputs": [
    {
     "name": "stdout",
     "output_type": "stream",
     "text": [
      " : shape=torch.Size([]), 1.0\n"
     ]
    }
   ],
   "source": [
    "import numpy as np\n",
    "h_index = torch.zeros(len(top1))\n",
    "for i in range(len(top1)):\n",
    "    # id1 = torch.where(topic_src==t1)[0]\n",
    "    # id2 = torch.where(topic_src==t2)[0]\n",
    "    pap1 = year_graph.successors(top1[i], etype='contains')\n",
    "    pap2 = year_graph.successors(top2[i], etype='contains')\n",
    "\n",
    "    # myout(id1)\n",
    "    # myout(id2)\n",
    "    # myout(id2)\n",
    "\n",
    "    p1, p2 = set(np.array(pap1)), set(np.array(pap2))\n",
    "    idx = p1 & p2\n",
    "\n",
    "    h_index[i] = len(idx) if len(idx) > 0 else 0\n",
    "    myout(h_index[i])\n",
    "    # myout(idx)\n",
    "\n",
    "    # myout(p1)\n",
    "\n",
    "\n",
    "    break\n"
   ]
  },
  {
   "cell_type": "code",
   "execution_count": 20,
   "metadata": {},
   "outputs": [
    {
     "data": {
      "text/plain": [
       "tensor([3, 4])"
      ]
     },
     "execution_count": 20,
     "metadata": {},
     "output_type": "execute_result"
    }
   ],
   "source": [
    "hg = dgl.heterograph({\n",
    "    ('user', 'follows', 'user'): (torch.tensor([0, 0 , 1, 1]), torch.tensor([1, 2, 3, 4])),\n",
    "    ('user', 'plays', 'game'): (torch.tensor([3, 4]), torch.tensor([5, 6]))\n",
    "})\n",
    "hg.successors(1, etype='follows')"
   ]
  }
 ],
 "metadata": {
  "interpreter": {
   "hash": "1e0222bf3d192ed24ba38124475d69c271719067df959c0ebd967f3e8a77853a"
  },
  "kernelspec": {
   "display_name": "Python 3.6.2 64-bit ('python36': conda)",
   "language": "python",
   "name": "python3"
  },
  "language_info": {
   "codemirror_mode": {
    "name": "ipython",
    "version": 3
   },
   "file_extension": ".py",
   "mimetype": "text/x-python",
   "name": "python",
   "nbconvert_exporter": "python",
   "pygments_lexer": "ipython3",
   "version": "3.6.2"
  },
  "orig_nbformat": 4
 },
 "nbformat": 4,
 "nbformat_minor": 2
}
